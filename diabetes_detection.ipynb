{
 "cells": [
  {
   "cell_type": "code",
   "execution_count": 7,
   "id": "09030c84",
   "metadata": {},
   "outputs": [],
   "source": [
    "import numpy as np\n",
    "import pandas as pd\n",
    "from sklearn.model_selection import train_test_split\n",
    "from sklearn.ensemble import RandomForestClassifier\n",
    "from sklearn.metrics import classification_report\n",
    "from sklearn.metrics import confusion_matrix, f1_score, accuracy_score\n",
    "import itertools \n",
    "import shap\n",
    "import matplotlib.pyplot as plt"
   ]
  },
  {
   "cell_type": "code",
   "execution_count": 154,
   "id": "38fa848c",
   "metadata": {},
   "outputs": [
    {
     "data": {
      "text/html": [
       "<div>\n",
       "<style scoped>\n",
       "    .dataframe tbody tr th:only-of-type {\n",
       "        vertical-align: middle;\n",
       "    }\n",
       "\n",
       "    .dataframe tbody tr th {\n",
       "        vertical-align: top;\n",
       "    }\n",
       "\n",
       "    .dataframe thead th {\n",
       "        text-align: right;\n",
       "    }\n",
       "</style>\n",
       "<table border=\"1\" class=\"dataframe\">\n",
       "  <thead>\n",
       "    <tr style=\"text-align: right;\">\n",
       "      <th></th>\n",
       "      <th>times_pregnant</th>\n",
       "      <th>glucose_conc</th>\n",
       "      <th>diastolic_blood_pressure</th>\n",
       "      <th>triceps_skin_thickness</th>\n",
       "      <th>2hr_insulin</th>\n",
       "      <th>bmi</th>\n",
       "      <th>pedigree_function</th>\n",
       "      <th>age</th>\n",
       "      <th>label</th>\n",
       "    </tr>\n",
       "  </thead>\n",
       "  <tbody>\n",
       "    <tr>\n",
       "      <th>count</th>\n",
       "      <td>768.000000</td>\n",
       "      <td>768.000000</td>\n",
       "      <td>768.000000</td>\n",
       "      <td>768.000000</td>\n",
       "      <td>768.000000</td>\n",
       "      <td>768.000000</td>\n",
       "      <td>768.000000</td>\n",
       "      <td>768.000000</td>\n",
       "      <td>768.000000</td>\n",
       "    </tr>\n",
       "    <tr>\n",
       "      <th>mean</th>\n",
       "      <td>3.845052</td>\n",
       "      <td>120.894531</td>\n",
       "      <td>69.105469</td>\n",
       "      <td>20.536458</td>\n",
       "      <td>79.799479</td>\n",
       "      <td>31.992578</td>\n",
       "      <td>0.471876</td>\n",
       "      <td>33.240885</td>\n",
       "      <td>0.348958</td>\n",
       "    </tr>\n",
       "    <tr>\n",
       "      <th>std</th>\n",
       "      <td>3.369578</td>\n",
       "      <td>31.972618</td>\n",
       "      <td>19.355807</td>\n",
       "      <td>15.952218</td>\n",
       "      <td>115.244002</td>\n",
       "      <td>7.884160</td>\n",
       "      <td>0.331329</td>\n",
       "      <td>11.760232</td>\n",
       "      <td>0.476951</td>\n",
       "    </tr>\n",
       "    <tr>\n",
       "      <th>min</th>\n",
       "      <td>0.000000</td>\n",
       "      <td>0.000000</td>\n",
       "      <td>0.000000</td>\n",
       "      <td>0.000000</td>\n",
       "      <td>0.000000</td>\n",
       "      <td>0.000000</td>\n",
       "      <td>0.078000</td>\n",
       "      <td>21.000000</td>\n",
       "      <td>0.000000</td>\n",
       "    </tr>\n",
       "    <tr>\n",
       "      <th>25%</th>\n",
       "      <td>1.000000</td>\n",
       "      <td>99.000000</td>\n",
       "      <td>62.000000</td>\n",
       "      <td>0.000000</td>\n",
       "      <td>0.000000</td>\n",
       "      <td>27.300000</td>\n",
       "      <td>0.243750</td>\n",
       "      <td>24.000000</td>\n",
       "      <td>0.000000</td>\n",
       "    </tr>\n",
       "    <tr>\n",
       "      <th>50%</th>\n",
       "      <td>3.000000</td>\n",
       "      <td>117.000000</td>\n",
       "      <td>72.000000</td>\n",
       "      <td>23.000000</td>\n",
       "      <td>30.500000</td>\n",
       "      <td>32.000000</td>\n",
       "      <td>0.372500</td>\n",
       "      <td>29.000000</td>\n",
       "      <td>0.000000</td>\n",
       "    </tr>\n",
       "    <tr>\n",
       "      <th>75%</th>\n",
       "      <td>6.000000</td>\n",
       "      <td>140.250000</td>\n",
       "      <td>80.000000</td>\n",
       "      <td>32.000000</td>\n",
       "      <td>127.250000</td>\n",
       "      <td>36.600000</td>\n",
       "      <td>0.626250</td>\n",
       "      <td>41.000000</td>\n",
       "      <td>1.000000</td>\n",
       "    </tr>\n",
       "    <tr>\n",
       "      <th>max</th>\n",
       "      <td>17.000000</td>\n",
       "      <td>199.000000</td>\n",
       "      <td>122.000000</td>\n",
       "      <td>99.000000</td>\n",
       "      <td>846.000000</td>\n",
       "      <td>67.100000</td>\n",
       "      <td>2.420000</td>\n",
       "      <td>81.000000</td>\n",
       "      <td>1.000000</td>\n",
       "    </tr>\n",
       "  </tbody>\n",
       "</table>\n",
       "</div>"
      ],
      "text/plain": [
       "       times_pregnant  glucose_conc  diastolic_blood_pressure  \\\n",
       "count      768.000000    768.000000                768.000000   \n",
       "mean         3.845052    120.894531                 69.105469   \n",
       "std          3.369578     31.972618                 19.355807   \n",
       "min          0.000000      0.000000                  0.000000   \n",
       "25%          1.000000     99.000000                 62.000000   \n",
       "50%          3.000000    117.000000                 72.000000   \n",
       "75%          6.000000    140.250000                 80.000000   \n",
       "max         17.000000    199.000000                122.000000   \n",
       "\n",
       "       triceps_skin_thickness  2hr_insulin         bmi  pedigree_function  \\\n",
       "count              768.000000   768.000000  768.000000         768.000000   \n",
       "mean                20.536458    79.799479   31.992578           0.471876   \n",
       "std                 15.952218   115.244002    7.884160           0.331329   \n",
       "min                  0.000000     0.000000    0.000000           0.078000   \n",
       "25%                  0.000000     0.000000   27.300000           0.243750   \n",
       "50%                 23.000000    30.500000   32.000000           0.372500   \n",
       "75%                 32.000000   127.250000   36.600000           0.626250   \n",
       "max                 99.000000   846.000000   67.100000           2.420000   \n",
       "\n",
       "              age       label  \n",
       "count  768.000000  768.000000  \n",
       "mean    33.240885    0.348958  \n",
       "std     11.760232    0.476951  \n",
       "min     21.000000    0.000000  \n",
       "25%     24.000000    0.000000  \n",
       "50%     29.000000    0.000000  \n",
       "75%     41.000000    1.000000  \n",
       "max     81.000000    1.000000  "
      ]
     },
     "execution_count": 154,
     "metadata": {},
     "output_type": "execute_result"
    }
   ],
   "source": [
    "input_df = pd.read_csv('./diabetes_data.csv')\n",
    "input_df.describe()"
   ]
  },
  {
   "cell_type": "code",
   "execution_count": 155,
   "id": "d82d97e2",
   "metadata": {},
   "outputs": [
    {
     "data": {
      "text/html": [
       "<div>\n",
       "<style scoped>\n",
       "    .dataframe tbody tr th:only-of-type {\n",
       "        vertical-align: middle;\n",
       "    }\n",
       "\n",
       "    .dataframe tbody tr th {\n",
       "        vertical-align: top;\n",
       "    }\n",
       "\n",
       "    .dataframe thead th {\n",
       "        text-align: right;\n",
       "    }\n",
       "</style>\n",
       "<table border=\"1\" class=\"dataframe\">\n",
       "  <thead>\n",
       "    <tr style=\"text-align: right;\">\n",
       "      <th></th>\n",
       "      <th>times_pregnant</th>\n",
       "      <th>glucose_conc</th>\n",
       "      <th>diastolic_blood_pressure</th>\n",
       "      <th>triceps_skin_thickness</th>\n",
       "      <th>2hr_insulin</th>\n",
       "      <th>bmi</th>\n",
       "      <th>pedigree_function</th>\n",
       "      <th>age</th>\n",
       "      <th>label</th>\n",
       "    </tr>\n",
       "  </thead>\n",
       "  <tbody>\n",
       "    <tr>\n",
       "      <th>times_pregnant</th>\n",
       "      <td>1.000000</td>\n",
       "      <td>0.129459</td>\n",
       "      <td>0.141282</td>\n",
       "      <td>-0.081672</td>\n",
       "      <td>-0.073535</td>\n",
       "      <td>0.017683</td>\n",
       "      <td>-0.033523</td>\n",
       "      <td>0.544341</td>\n",
       "      <td>0.221898</td>\n",
       "    </tr>\n",
       "    <tr>\n",
       "      <th>glucose_conc</th>\n",
       "      <td>0.129459</td>\n",
       "      <td>1.000000</td>\n",
       "      <td>0.152590</td>\n",
       "      <td>0.057328</td>\n",
       "      <td>0.331357</td>\n",
       "      <td>0.221071</td>\n",
       "      <td>0.137337</td>\n",
       "      <td>0.263514</td>\n",
       "      <td>0.466581</td>\n",
       "    </tr>\n",
       "    <tr>\n",
       "      <th>diastolic_blood_pressure</th>\n",
       "      <td>0.141282</td>\n",
       "      <td>0.152590</td>\n",
       "      <td>1.000000</td>\n",
       "      <td>0.207371</td>\n",
       "      <td>0.088933</td>\n",
       "      <td>0.281805</td>\n",
       "      <td>0.041265</td>\n",
       "      <td>0.239528</td>\n",
       "      <td>0.065068</td>\n",
       "    </tr>\n",
       "    <tr>\n",
       "      <th>triceps_skin_thickness</th>\n",
       "      <td>-0.081672</td>\n",
       "      <td>0.057328</td>\n",
       "      <td>0.207371</td>\n",
       "      <td>1.000000</td>\n",
       "      <td>0.436783</td>\n",
       "      <td>0.392573</td>\n",
       "      <td>0.183928</td>\n",
       "      <td>-0.113970</td>\n",
       "      <td>0.074752</td>\n",
       "    </tr>\n",
       "    <tr>\n",
       "      <th>2hr_insulin</th>\n",
       "      <td>-0.073535</td>\n",
       "      <td>0.331357</td>\n",
       "      <td>0.088933</td>\n",
       "      <td>0.436783</td>\n",
       "      <td>1.000000</td>\n",
       "      <td>0.197859</td>\n",
       "      <td>0.185071</td>\n",
       "      <td>-0.042163</td>\n",
       "      <td>0.130548</td>\n",
       "    </tr>\n",
       "    <tr>\n",
       "      <th>bmi</th>\n",
       "      <td>0.017683</td>\n",
       "      <td>0.221071</td>\n",
       "      <td>0.281805</td>\n",
       "      <td>0.392573</td>\n",
       "      <td>0.197859</td>\n",
       "      <td>1.000000</td>\n",
       "      <td>0.140647</td>\n",
       "      <td>0.036242</td>\n",
       "      <td>0.292695</td>\n",
       "    </tr>\n",
       "    <tr>\n",
       "      <th>pedigree_function</th>\n",
       "      <td>-0.033523</td>\n",
       "      <td>0.137337</td>\n",
       "      <td>0.041265</td>\n",
       "      <td>0.183928</td>\n",
       "      <td>0.185071</td>\n",
       "      <td>0.140647</td>\n",
       "      <td>1.000000</td>\n",
       "      <td>0.033561</td>\n",
       "      <td>0.173844</td>\n",
       "    </tr>\n",
       "    <tr>\n",
       "      <th>age</th>\n",
       "      <td>0.544341</td>\n",
       "      <td>0.263514</td>\n",
       "      <td>0.239528</td>\n",
       "      <td>-0.113970</td>\n",
       "      <td>-0.042163</td>\n",
       "      <td>0.036242</td>\n",
       "      <td>0.033561</td>\n",
       "      <td>1.000000</td>\n",
       "      <td>0.238356</td>\n",
       "    </tr>\n",
       "    <tr>\n",
       "      <th>label</th>\n",
       "      <td>0.221898</td>\n",
       "      <td>0.466581</td>\n",
       "      <td>0.065068</td>\n",
       "      <td>0.074752</td>\n",
       "      <td>0.130548</td>\n",
       "      <td>0.292695</td>\n",
       "      <td>0.173844</td>\n",
       "      <td>0.238356</td>\n",
       "      <td>1.000000</td>\n",
       "    </tr>\n",
       "  </tbody>\n",
       "</table>\n",
       "</div>"
      ],
      "text/plain": [
       "                          times_pregnant  glucose_conc  \\\n",
       "times_pregnant                  1.000000      0.129459   \n",
       "glucose_conc                    0.129459      1.000000   \n",
       "diastolic_blood_pressure        0.141282      0.152590   \n",
       "triceps_skin_thickness         -0.081672      0.057328   \n",
       "2hr_insulin                    -0.073535      0.331357   \n",
       "bmi                             0.017683      0.221071   \n",
       "pedigree_function              -0.033523      0.137337   \n",
       "age                             0.544341      0.263514   \n",
       "label                           0.221898      0.466581   \n",
       "\n",
       "                          diastolic_blood_pressure  triceps_skin_thickness  \\\n",
       "times_pregnant                            0.141282               -0.081672   \n",
       "glucose_conc                              0.152590                0.057328   \n",
       "diastolic_blood_pressure                  1.000000                0.207371   \n",
       "triceps_skin_thickness                    0.207371                1.000000   \n",
       "2hr_insulin                               0.088933                0.436783   \n",
       "bmi                                       0.281805                0.392573   \n",
       "pedigree_function                         0.041265                0.183928   \n",
       "age                                       0.239528               -0.113970   \n",
       "label                                     0.065068                0.074752   \n",
       "\n",
       "                          2hr_insulin       bmi  pedigree_function       age  \\\n",
       "times_pregnant              -0.073535  0.017683          -0.033523  0.544341   \n",
       "glucose_conc                 0.331357  0.221071           0.137337  0.263514   \n",
       "diastolic_blood_pressure     0.088933  0.281805           0.041265  0.239528   \n",
       "triceps_skin_thickness       0.436783  0.392573           0.183928 -0.113970   \n",
       "2hr_insulin                  1.000000  0.197859           0.185071 -0.042163   \n",
       "bmi                          0.197859  1.000000           0.140647  0.036242   \n",
       "pedigree_function            0.185071  0.140647           1.000000  0.033561   \n",
       "age                         -0.042163  0.036242           0.033561  1.000000   \n",
       "label                        0.130548  0.292695           0.173844  0.238356   \n",
       "\n",
       "                             label  \n",
       "times_pregnant            0.221898  \n",
       "glucose_conc              0.466581  \n",
       "diastolic_blood_pressure  0.065068  \n",
       "triceps_skin_thickness    0.074752  \n",
       "2hr_insulin               0.130548  \n",
       "bmi                       0.292695  \n",
       "pedigree_function         0.173844  \n",
       "age                       0.238356  \n",
       "label                     1.000000  "
      ]
     },
     "execution_count": 155,
     "metadata": {},
     "output_type": "execute_result"
    }
   ],
   "source": [
    "input_df.corr(method='pearson')"
   ]
  },
  {
   "cell_type": "code",
   "execution_count": 156,
   "id": "0e740d48",
   "metadata": {},
   "outputs": [],
   "source": [
    "def count_rows_with_bad_data(X):\n",
    "    total_rows = len(X)\n",
    "    column_names = list(X.columns.values)\n",
    "    \n",
    "    for column_name in column_names:\n",
    "        if column_name != 'label':\n",
    "            zero_values = len(X[X[column_name] == 0]) * 100.0 / total_rows\n",
    "            print(f\"Percentage of rows with zero {column_name} : {zero_values} %\")"
   ]
  },
  {
   "cell_type": "code",
   "execution_count": 157,
   "id": "9698e451",
   "metadata": {},
   "outputs": [
    {
     "name": "stdout",
     "output_type": "stream",
     "text": [
      "Percentage of rows with zero times_pregnant : 14.453125 %\n",
      "Percentage of rows with zero glucose_conc : 0.6510416666666666 %\n",
      "Percentage of rows with zero diastolic_blood_pressure : 4.557291666666667 %\n",
      "Percentage of rows with zero triceps_skin_thickness : 29.557291666666668 %\n",
      "Percentage of rows with zero 2hr_insulin : 48.697916666666664 %\n",
      "Percentage of rows with zero bmi : 1.4322916666666667 %\n",
      "Percentage of rows with zero pedigree_function : 0.0 %\n",
      "Percentage of rows with zero age : 0.0 %\n"
     ]
    }
   ],
   "source": [
    "count_rows_with_bad_data(input_df)"
   ]
  },
  {
   "cell_type": "code",
   "execution_count": 158,
   "id": "a130f401",
   "metadata": {},
   "outputs": [],
   "source": [
    "#input_dropped = input_df.drop(labels={'2hr_insulin'}, axis=1)\n",
    "input_dropped = input_df"
   ]
  },
  {
   "cell_type": "code",
   "execution_count": 159,
   "id": "f56c24dd",
   "metadata": {},
   "outputs": [],
   "source": [
    "# Separate the features and the labels in X and y\n",
    "X = input_dropped.iloc[:, :-1]\n",
    "y = input_dropped.iloc[:, -1:]"
   ]
  },
  {
   "cell_type": "code",
   "execution_count": 160,
   "id": "f59ac010",
   "metadata": {},
   "outputs": [
    {
     "data": {
      "text/html": [
       "<div>\n",
       "<style scoped>\n",
       "    .dataframe tbody tr th:only-of-type {\n",
       "        vertical-align: middle;\n",
       "    }\n",
       "\n",
       "    .dataframe tbody tr th {\n",
       "        vertical-align: top;\n",
       "    }\n",
       "\n",
       "    .dataframe thead th {\n",
       "        text-align: right;\n",
       "    }\n",
       "</style>\n",
       "<table border=\"1\" class=\"dataframe\">\n",
       "  <thead>\n",
       "    <tr style=\"text-align: right;\">\n",
       "      <th></th>\n",
       "      <th>times_pregnant</th>\n",
       "      <th>glucose_conc</th>\n",
       "      <th>diastolic_blood_pressure</th>\n",
       "      <th>triceps_skin_thickness</th>\n",
       "      <th>2hr_insulin</th>\n",
       "      <th>bmi</th>\n",
       "      <th>pedigree_function</th>\n",
       "      <th>age</th>\n",
       "    </tr>\n",
       "  </thead>\n",
       "  <tbody>\n",
       "    <tr>\n",
       "      <th>0</th>\n",
       "      <td>6</td>\n",
       "      <td>148</td>\n",
       "      <td>72</td>\n",
       "      <td>35</td>\n",
       "      <td>0</td>\n",
       "      <td>33.6</td>\n",
       "      <td>0.627</td>\n",
       "      <td>50</td>\n",
       "    </tr>\n",
       "    <tr>\n",
       "      <th>1</th>\n",
       "      <td>1</td>\n",
       "      <td>85</td>\n",
       "      <td>66</td>\n",
       "      <td>29</td>\n",
       "      <td>0</td>\n",
       "      <td>26.6</td>\n",
       "      <td>0.351</td>\n",
       "      <td>31</td>\n",
       "    </tr>\n",
       "    <tr>\n",
       "      <th>2</th>\n",
       "      <td>8</td>\n",
       "      <td>183</td>\n",
       "      <td>64</td>\n",
       "      <td>0</td>\n",
       "      <td>0</td>\n",
       "      <td>23.3</td>\n",
       "      <td>0.672</td>\n",
       "      <td>32</td>\n",
       "    </tr>\n",
       "    <tr>\n",
       "      <th>3</th>\n",
       "      <td>1</td>\n",
       "      <td>89</td>\n",
       "      <td>66</td>\n",
       "      <td>23</td>\n",
       "      <td>94</td>\n",
       "      <td>28.1</td>\n",
       "      <td>0.167</td>\n",
       "      <td>21</td>\n",
       "    </tr>\n",
       "    <tr>\n",
       "      <th>4</th>\n",
       "      <td>0</td>\n",
       "      <td>137</td>\n",
       "      <td>40</td>\n",
       "      <td>35</td>\n",
       "      <td>168</td>\n",
       "      <td>43.1</td>\n",
       "      <td>2.288</td>\n",
       "      <td>33</td>\n",
       "    </tr>\n",
       "  </tbody>\n",
       "</table>\n",
       "</div>"
      ],
      "text/plain": [
       "   times_pregnant  glucose_conc  diastolic_blood_pressure  \\\n",
       "0               6           148                        72   \n",
       "1               1            85                        66   \n",
       "2               8           183                        64   \n",
       "3               1            89                        66   \n",
       "4               0           137                        40   \n",
       "\n",
       "   triceps_skin_thickness  2hr_insulin   bmi  pedigree_function  age  \n",
       "0                      35            0  33.6              0.627   50  \n",
       "1                      29            0  26.6              0.351   31  \n",
       "2                       0            0  23.3              0.672   32  \n",
       "3                      23           94  28.1              0.167   21  \n",
       "4                      35          168  43.1              2.288   33  "
      ]
     },
     "execution_count": 160,
     "metadata": {},
     "output_type": "execute_result"
    }
   ],
   "source": [
    "X.head()"
   ]
  },
  {
   "cell_type": "code",
   "execution_count": 161,
   "id": "ed2a7d68",
   "metadata": {},
   "outputs": [
    {
     "data": {
      "image/png": "[encoded data removed]",
      "text/plain": [
       "<Figure size 432x288 with 1 Axes>"
      ]
     },
     "metadata": {
      "needs_background": "light"
     },
     "output_type": "display_data"
    },
    {
     "data": {
      "image/png": "[encoded data removed]",
      "text/plain": [
       "<Figure size 432x288 with 1 Axes>"
      ]
     },
     "metadata": {
      "needs_background": "light"
     },
     "output_type": "display_data"
    },
    {
     "data": {
      "image/png": "[encoded data removed]",
      "text/plain": [
       "<Figure size 432x288 with 1 Axes>"
      ]
     },
     "metadata": {
      "needs_background": "light"
     },
     "output_type": "display_data"
    },
    {
     "data": {
      "image/png": "[encoded data removed]",
      "text/plain": [
       "<Figure size 432x288 with 1 Axes>"
      ]
     },
     "metadata": {
      "needs_background": "light"
     },
     "output_type": "display_data"
    },
    {
     "data": {
      "image/png": "[encoded data removed]",
      "text/plain": [
       "<Figure size 432x288 with 1 Axes>"
      ]
     },
     "metadata": {
      "needs_background": "light"
     },
     "output_type": "display_data"
    },
    {
     "data": {
      "image/png": "[encoded data removed]",
      "text/plain": [
       "<Figure size 432x288 with 1 Axes>"
      ]
     },
     "metadata": {
      "needs_background": "light"
     },
     "output_type": "display_data"
    },
    {
     "data": {
      "image/png": "[encoded data removed]",
      "text/plain": [
       "<Figure size 432x288 with 1 Axes>"
      ]
     },
     "metadata": {
      "needs_background": "light"
     },
     "output_type": "display_data"
    },
    {
     "data": {
      "image/png": "[encoded data removed]",
      "text/plain": [
       "<Figure size 432x288 with 1 Axes>"
      ]
     },
     "metadata": {
      "needs_background": "light"
     },
     "output_type": "display_data"
    }
   ],
   "source": [
    "for col in X.columns:\n",
    "    input_dropped[col].hist()\n",
    "    plt.title(col)\n",
    "    plt.show()"
   ]
  },
  {
   "cell_type": "code",
   "execution_count": 162,
   "id": "effca636",
   "metadata": {},
   "outputs": [],
   "source": [
    "def get_glucose_conc_range(val):\n",
    "    if val > 125:\n",
    "        return 'greater_than_125'\n",
    "    elif val > 100:\n",
    "        return 'between_100_and_125'\n",
    "    elif val > 70:\n",
    "        return 'between_70_and_100'\n",
    "    else:\n",
    "        return 'less_than_equal_70'"
   ]
  },
  {
   "cell_type": "code",
   "execution_count": 163,
   "id": "48c65a32",
   "metadata": {},
   "outputs": [],
   "source": [
    "def get_diastolic_bp_range(val):\n",
    "    if val > 80:\n",
    "        return 'greater_than_80'\n",
    "    elif val >= 60:\n",
    "        return 'between_60_and_80'\n",
    "    else:\n",
    "        return 'less_than_60'"
   ]
  },
  {
   "cell_type": "code",
   "execution_count": 164,
   "id": "1f76a817",
   "metadata": {},
   "outputs": [
    {
     "name": "stdout",
     "output_type": "stream",
     "text": [
      "Mean non-zero 2 hour insulin : 155.5482233502538\n"
     ]
    }
   ],
   "source": [
    "non_zero_2hr_insulin_count = len(X[X['2hr_insulin'] > 0])\n",
    "sum_2hr_insulin_count = X['2hr_insulin'].sum()\n",
    "\n",
    "mean_non_zero_2hr_insulin = 1.0 * sum_2hr_insulin_count / non_zero_2hr_insulin_count\n",
    "print(f\"Mean non-zero 2 hour insulin : {mean_non_zero_2hr_insulin}\")"
   ]
  },
  {
   "cell_type": "code",
   "execution_count": 165,
   "id": "d2e768d0",
   "metadata": {},
   "outputs": [],
   "source": [
    "X['glucose_range'] = X['glucose_conc'].apply(lambda x : get_glucose_conc_range(x))\n",
    "X['diastolic_bp_range'] = X['diastolic_blood_pressure'].apply(lambda x : get_diastolic_bp_range(x))\n",
    "X['imputed_2hr_insulin'] = X['2hr_insulin'].apply(lambda x : x if (x > 0) else mean_non_zero_2hr_insulin)"
   ]
  },
  {
   "cell_type": "code",
   "execution_count": 166,
   "id": "e74e368b",
   "metadata": {},
   "outputs": [],
   "source": [
    "def one_hot_encode(df, categorical_features):\n",
    "    \"\"\" One hot encode the categorical features \"\"\"\n",
    "    dum_df = pd.get_dummies(df, columns=categorical_features, prefix_sep = '=', sparse=False, drop_first=False)\n",
    "    return dum_df"
   ]
  },
  {
   "cell_type": "code",
   "execution_count": 167,
   "id": "95fa1d08",
   "metadata": {},
   "outputs": [],
   "source": [
    "categorical_features = ['glucose_range', 'diastolic_bp_range']\n",
    "X_encoded = one_hot_encode(X, categorical_features)\n",
    "#X = X_encoded.drop(['bmi', 'glucose_conc', 'diastolic_blood_pressure'], axis=1)\n",
    "X = X_encoded.drop(['2hr_insulin'], axis=1)\n",
    "#X = X_encoded"
   ]
  },
  {
   "cell_type": "code",
   "execution_count": 168,
   "id": "e9dc366a",
   "metadata": {},
   "outputs": [
    {
     "data": {
      "text/html": [
       "<div>\n",
       "<style scoped>\n",
       "    .dataframe tbody tr th:only-of-type {\n",
       "        vertical-align: middle;\n",
       "    }\n",
       "\n",
       "    .dataframe tbody tr th {\n",
       "        vertical-align: top;\n",
       "    }\n",
       "\n",
       "    .dataframe thead th {\n",
       "        text-align: right;\n",
       "    }\n",
       "</style>\n",
       "<table border=\"1\" class=\"dataframe\">\n",
       "  <thead>\n",
       "    <tr style=\"text-align: right;\">\n",
       "      <th></th>\n",
       "      <th>times_pregnant</th>\n",
       "      <th>glucose_conc</th>\n",
       "      <th>diastolic_blood_pressure</th>\n",
       "      <th>triceps_skin_thickness</th>\n",
       "      <th>bmi</th>\n",
       "      <th>pedigree_function</th>\n",
       "      <th>age</th>\n",
       "      <th>imputed_2hr_insulin</th>\n",
       "      <th>glucose_range=between_100_and_125</th>\n",
       "      <th>glucose_range=between_70_and_100</th>\n",
       "      <th>glucose_range=greater_than_125</th>\n",
       "      <th>glucose_range=less_than_equal_70</th>\n",
       "      <th>diastolic_bp_range=between_60_and_80</th>\n",
       "      <th>diastolic_bp_range=greater_than_80</th>\n",
       "      <th>diastolic_bp_range=less_than_60</th>\n",
       "    </tr>\n",
       "  </thead>\n",
       "  <tbody>\n",
       "    <tr>\n",
       "      <th>0</th>\n",
       "      <td>6</td>\n",
       "      <td>148</td>\n",
       "      <td>72</td>\n",
       "      <td>35</td>\n",
       "      <td>33.6</td>\n",
       "      <td>0.627</td>\n",
       "      <td>50</td>\n",
       "      <td>155.548223</td>\n",
       "      <td>0</td>\n",
       "      <td>0</td>\n",
       "      <td>1</td>\n",
       "      <td>0</td>\n",
       "      <td>1</td>\n",
       "      <td>0</td>\n",
       "      <td>0</td>\n",
       "    </tr>\n",
       "    <tr>\n",
       "      <th>1</th>\n",
       "      <td>1</td>\n",
       "      <td>85</td>\n",
       "      <td>66</td>\n",
       "      <td>29</td>\n",
       "      <td>26.6</td>\n",
       "      <td>0.351</td>\n",
       "      <td>31</td>\n",
       "      <td>155.548223</td>\n",
       "      <td>0</td>\n",
       "      <td>1</td>\n",
       "      <td>0</td>\n",
       "      <td>0</td>\n",
       "      <td>1</td>\n",
       "      <td>0</td>\n",
       "      <td>0</td>\n",
       "    </tr>\n",
       "    <tr>\n",
       "      <th>2</th>\n",
       "      <td>8</td>\n",
       "      <td>183</td>\n",
       "      <td>64</td>\n",
       "      <td>0</td>\n",
       "      <td>23.3</td>\n",
       "      <td>0.672</td>\n",
       "      <td>32</td>\n",
       "      <td>155.548223</td>\n",
       "      <td>0</td>\n",
       "      <td>0</td>\n",
       "      <td>1</td>\n",
       "      <td>0</td>\n",
       "      <td>1</td>\n",
       "      <td>0</td>\n",
       "      <td>0</td>\n",
       "    </tr>\n",
       "    <tr>\n",
       "      <th>3</th>\n",
       "      <td>1</td>\n",
       "      <td>89</td>\n",
       "      <td>66</td>\n",
       "      <td>23</td>\n",
       "      <td>28.1</td>\n",
       "      <td>0.167</td>\n",
       "      <td>21</td>\n",
       "      <td>94.000000</td>\n",
       "      <td>0</td>\n",
       "      <td>1</td>\n",
       "      <td>0</td>\n",
       "      <td>0</td>\n",
       "      <td>1</td>\n",
       "      <td>0</td>\n",
       "      <td>0</td>\n",
       "    </tr>\n",
       "    <tr>\n",
       "      <th>4</th>\n",
       "      <td>0</td>\n",
       "      <td>137</td>\n",
       "      <td>40</td>\n",
       "      <td>35</td>\n",
       "      <td>43.1</td>\n",
       "      <td>2.288</td>\n",
       "      <td>33</td>\n",
       "      <td>168.000000</td>\n",
       "      <td>0</td>\n",
       "      <td>0</td>\n",
       "      <td>1</td>\n",
       "      <td>0</td>\n",
       "      <td>0</td>\n",
       "      <td>0</td>\n",
       "      <td>1</td>\n",
       "    </tr>\n",
       "  </tbody>\n",
       "</table>\n",
       "</div>"
      ],
      "text/plain": [
       "   times_pregnant  glucose_conc  diastolic_blood_pressure  \\\n",
       "0               6           148                        72   \n",
       "1               1            85                        66   \n",
       "2               8           183                        64   \n",
       "3               1            89                        66   \n",
       "4               0           137                        40   \n",
       "\n",
       "   triceps_skin_thickness   bmi  pedigree_function  age  imputed_2hr_insulin  \\\n",
       "0                      35  33.6              0.627   50           155.548223   \n",
       "1                      29  26.6              0.351   31           155.548223   \n",
       "2                       0  23.3              0.672   32           155.548223   \n",
       "3                      23  28.1              0.167   21            94.000000   \n",
       "4                      35  43.1              2.288   33           168.000000   \n",
       "\n",
       "   glucose_range=between_100_and_125  glucose_range=between_70_and_100  \\\n",
       "0                                  0                                 0   \n",
       "1                                  0                                 1   \n",
       "2                                  0                                 0   \n",
       "3                                  0                                 1   \n",
       "4                                  0                                 0   \n",
       "\n",
       "   glucose_range=greater_than_125  glucose_range=less_than_equal_70  \\\n",
       "0                               1                                 0   \n",
       "1                               0                                 0   \n",
       "2                               1                                 0   \n",
       "3                               0                                 0   \n",
       "4                               1                                 0   \n",
       "\n",
       "   diastolic_bp_range=between_60_and_80  diastolic_bp_range=greater_than_80  \\\n",
       "0                                     1                                   0   \n",
       "1                                     1                                   0   \n",
       "2                                     1                                   0   \n",
       "3                                     1                                   0   \n",
       "4                                     0                                   0   \n",
       "\n",
       "   diastolic_bp_range=less_than_60  \n",
       "0                                0  \n",
       "1                                0  \n",
       "2                                0  \n",
       "3                                0  \n",
       "4                                1  "
      ]
     },
     "execution_count": 168,
     "metadata": {},
     "output_type": "execute_result"
    }
   ],
   "source": [
    "X.head()"
   ]
  },
  {
   "cell_type": "code",
   "execution_count": 169,
   "id": "8d2ae3bd",
   "metadata": {},
   "outputs": [
    {
     "data": {
      "text/plain": [
       "(768, 15)"
      ]
     },
     "execution_count": 169,
     "metadata": {},
     "output_type": "execute_result"
    }
   ],
   "source": [
    "X.shape"
   ]
  },
  {
   "cell_type": "code",
   "execution_count": 170,
   "id": "fc9b4ba7",
   "metadata": {},
   "outputs": [],
   "source": [
    "X_dev, X_test, y_dev, y_test = train_test_split(X, y, test_size=0.20, random_state=10)"
   ]
  },
  {
   "cell_type": "code",
   "execution_count": 171,
   "id": "cdd6715a",
   "metadata": {},
   "outputs": [],
   "source": [
    "def holdout_grid_search(clf, X_train, y_train, X_test, y_test, hyperparams, fixed_hyperparams={}):\n",
    "    best_estimator = None \n",
    "    best_hyperparams = {}\n",
    "    \n",
    "    best_score = 0.0\n",
    "    \n",
    "    # get list of param values\n",
    "    lists = hyperparams.values()\n",
    "    # get all param combinations names to values in best_estimator\n",
    "    param_combinations = list(itertools.product(*lists))\n",
    "    total_param_combinations = len(param_combinations)\n",
    "    \n",
    "    # iterate through param combinations\n",
    "    for i, params in enumerate(param_combinations, 1):\n",
    "        # fill param dict with params\n",
    "        param_dict = {}\n",
    "        for param_index, param_name in enumerate(hyperparams):\n",
    "            param_dict[param_name] = params[param_index]\n",
    "        \n",
    "        # create estimator with specified params\n",
    "        estimator = clf(**param_dict, **fixed_hyperparams)\n",
    "    \n",
    "        # fit estimator\n",
    "        estimator.fit(X_train, y_train)\n",
    "        # get predictions on the test\n",
    "        y_preds = estimator.predict(X_test)\n",
    "        f1score = f1_score(y_test, y_preds)\n",
    "    \n",
    "        print(f'[{i}/{total_param_combinations}] {param_dict}')\n",
    "        print(f'Val f1-score: {f1score}\\n')\n",
    "    \n",
    "        if f1score >= best_score:\n",
    "            best_score = f1score\n",
    "            best_estimator = estimator\n",
    "            best_hyperparams = param_dict\n",
    "        \n",
    "    best_hyperparams.update(fixed_hyperparams)\n",
    "    \n",
    "    return best_estimator, best_hyperparams\n"
   ]
  },
  {
   "cell_type": "code",
   "execution_count": 178,
   "id": "d6136485",
   "metadata": {},
   "outputs": [],
   "source": [
    "def random_forest_grid_search(X_train, y_train, X_test, y_test):\n",
    "    hyperparams = {\n",
    "        'n_estimators': [50, 75, 100, 110],\n",
    "        'max_depth': [1,2,3,4,5],\n",
    "        'min_samples_leaf': [1,2,3,4,5,6,7,8,9,10]\n",
    "    }\n",
    "    fixed_hyperparams = {\n",
    "       'random_state': 10,\n",
    "    }\n",
    "    \n",
    "    rf = RandomForestClassifier\n",
    "    \n",
    "    best_rf, best_hyperparams = holdout_grid_search(rf, X_train, y_train, X_test, y_test, hyperparams, fixed_hyperparams)\n",
    "    \n",
    "    print(f\"Best hyperparameters:\\n{best_hyperparams}\")\n",
    "    \n",
    "    y_train_best_pred = best_rf.predict(X_train)\n",
    "    print(\"Train f1 score : \" + str(f1_score(y_train, y_train_best_pred)))\n",
    "    \n",
    "    y_test_best_pred = best_rf.predict(X_test)\n",
    "    print(\"Test f1 score : \" + str(f1_score(y_test, y_test_best_pred)))\n",
    "    \n",
    "    return best_rf"
   ]
  },
  {
   "cell_type": "code",
   "execution_count": 179,
   "id": "c44f0761",
   "metadata": {},
   "outputs": [
    {
     "name": "stderr",
     "output_type": "stream",
     "text": [
      "A column-vector y was passed when a 1d array was expected. Please change the shape of y to (n_samples,), for example using ravel().\n",
      "A column-vector y was passed when a 1d array was expected. Please change the shape of y to (n_samples,), for example using ravel().\n",
      "A column-vector y was passed when a 1d array was expected. Please change the shape of y to (n_samples,), for example using ravel().\n",
      "A column-vector y was passed when a 1d array was expected. Please change the shape of y to (n_samples,), for example using ravel().\n"
     ]
    },
    {
     "name": "stdout",
     "output_type": "stream",
     "text": [
      "[1/200] {'n_estimators': 50, 'max_depth': 1, 'min_samples_leaf': 1}\n",
      "Val f1-score: 0.2352941176470588\n",
      "\n",
      "[2/200] {'n_estimators': 50, 'max_depth': 1, 'min_samples_leaf': 2}\n",
      "Val f1-score: 0.2352941176470588\n",
      "\n",
      "[3/200] {'n_estimators': 50, 'max_depth': 1, 'min_samples_leaf': 3}\n",
      "Val f1-score: 0.2352941176470588\n",
      "\n",
      "[4/200] {'n_estimators': 50, 'max_depth': 1, 'min_samples_leaf': 4}\n",
      "Val f1-score: 0.2352941176470588\n",
      "\n"
     ]
    },
    {
     "name": "stderr",
     "output_type": "stream",
     "text": [
      "A column-vector y was passed when a 1d array was expected. Please change the shape of y to (n_samples,), for example using ravel().\n",
      "A column-vector y was passed when a 1d array was expected. Please change the shape of y to (n_samples,), for example using ravel().\n",
      "A column-vector y was passed when a 1d array was expected. Please change the shape of y to (n_samples,), for example using ravel().\n",
      "A column-vector y was passed when a 1d array was expected. Please change the shape of y to (n_samples,), for example using ravel().\n"
     ]
    },
    {
     "name": "stdout",
     "output_type": "stream",
     "text": [
      "[5/200] {'n_estimators': 50, 'max_depth': 1, 'min_samples_leaf': 5}\n",
      "Val f1-score: 0.2352941176470588\n",
      "\n",
      "[6/200] {'n_estimators': 50, 'max_depth': 1, 'min_samples_leaf': 6}\n",
      "Val f1-score: 0.2352941176470588\n",
      "\n",
      "[7/200] {'n_estimators': 50, 'max_depth': 1, 'min_samples_leaf': 7}\n",
      "Val f1-score: 0.2352941176470588\n",
      "\n",
      "[8/200] {'n_estimators': 50, 'max_depth': 1, 'min_samples_leaf': 8}\n",
      "Val f1-score: 0.2352941176470588\n",
      "\n"
     ]
    },
    {
     "name": "stderr",
     "output_type": "stream",
     "text": [
      "A column-vector y was passed when a 1d array was expected. Please change the shape of y to (n_samples,), for example using ravel().\n",
      "A column-vector y was passed when a 1d array was expected. Please change the shape of y to (n_samples,), for example using ravel().\n",
      "A column-vector y was passed when a 1d array was expected. Please change the shape of y to (n_samples,), for example using ravel().\n"
     ]
    },
    {
     "name": "stdout",
     "output_type": "stream",
     "text": [
      "[9/200] {'n_estimators': 50, 'max_depth': 1, 'min_samples_leaf': 9}\n",
      "Val f1-score: 0.2352941176470588\n",
      "\n",
      "[10/200] {'n_estimators': 50, 'max_depth': 1, 'min_samples_leaf': 10}\n",
      "Val f1-score: 0.2352941176470588\n",
      "\n",
      "[11/200] {'n_estimators': 50, 'max_depth': 2, 'min_samples_leaf': 1}\n",
      "Val f1-score: 0.5287356321839081\n",
      "\n"
     ]
    },
    {
     "name": "stderr",
     "output_type": "stream",
     "text": [
      "A column-vector y was passed when a 1d array was expected. Please change the shape of y to (n_samples,), for example using ravel().\n",
      "A column-vector y was passed when a 1d array was expected. Please change the shape of y to (n_samples,), for example using ravel().\n",
      "A column-vector y was passed when a 1d array was expected. Please change the shape of y to (n_samples,), for example using ravel().\n",
      "A column-vector y was passed when a 1d array was expected. Please change the shape of y to (n_samples,), for example using ravel().\n"
     ]
    },
    {
     "name": "stdout",
     "output_type": "stream",
     "text": [
      "[12/200] {'n_estimators': 50, 'max_depth': 2, 'min_samples_leaf': 2}\n",
      "Val f1-score: 0.5287356321839081\n",
      "\n",
      "[13/200] {'n_estimators': 50, 'max_depth': 2, 'min_samples_leaf': 3}\n",
      "Val f1-score: 0.5287356321839081\n",
      "\n",
      "[14/200] {'n_estimators': 50, 'max_depth': 2, 'min_samples_leaf': 4}\n",
      "Val f1-score: 0.5287356321839081\n",
      "\n",
      "[15/200] {'n_estimators': 50, 'max_depth': 2, 'min_samples_leaf': 5}\n",
      "Val f1-score: 0.5287356321839081\n",
      "\n"
     ]
    },
    {
     "name": "stderr",
     "output_type": "stream",
     "text": [
      "A column-vector y was passed when a 1d array was expected. Please change the shape of y to (n_samples,), for example using ravel().\n",
      "A column-vector y was passed when a 1d array was expected. Please change the shape of y to (n_samples,), for example using ravel().\n",
      "A column-vector y was passed when a 1d array was expected. Please change the shape of y to (n_samples,), for example using ravel().\n",
      "A column-vector y was passed when a 1d array was expected. Please change the shape of y to (n_samples,), for example using ravel().\n"
     ]
    },
    {
     "name": "stdout",
     "output_type": "stream",
     "text": [
      "[16/200] {'n_estimators': 50, 'max_depth': 2, 'min_samples_leaf': 6}\n",
      "Val f1-score: 0.5116279069767442\n",
      "\n",
      "[17/200] {'n_estimators': 50, 'max_depth': 2, 'min_samples_leaf': 7}\n",
      "Val f1-score: 0.5116279069767442\n",
      "\n",
      "[18/200] {'n_estimators': 50, 'max_depth': 2, 'min_samples_leaf': 8}\n",
      "Val f1-score: 0.5116279069767442\n",
      "\n",
      "[19/200] {'n_estimators': 50, 'max_depth': 2, 'min_samples_leaf': 9}\n",
      "Val f1-score: 0.5287356321839081\n",
      "\n"
     ]
    },
    {
     "name": "stderr",
     "output_type": "stream",
     "text": [
      "A column-vector y was passed when a 1d array was expected. Please change the shape of y to (n_samples,), for example using ravel().\n",
      "A column-vector y was passed when a 1d array was expected. Please change the shape of y to (n_samples,), for example using ravel().\n",
      "A column-vector y was passed when a 1d array was expected. Please change the shape of y to (n_samples,), for example using ravel().\n",
      "A column-vector y was passed when a 1d array was expected. Please change the shape of y to (n_samples,), for example using ravel().\n"
     ]
    },
    {
     "name": "stdout",
     "output_type": "stream",
     "text": [
      "[20/200] {'n_estimators': 50, 'max_depth': 2, 'min_samples_leaf': 10}\n",
      "Val f1-score: 0.5287356321839081\n",
      "\n",
      "[21/200] {'n_estimators': 50, 'max_depth': 3, 'min_samples_leaf': 1}\n",
      "Val f1-score: 0.5360824742268041\n",
      "\n",
      "[22/200] {'n_estimators': 50, 'max_depth': 3, 'min_samples_leaf': 2}\n",
      "Val f1-score: 0.5473684210526315\n",
      "\n",
      "[23/200] {'n_estimators': 50, 'max_depth': 3, 'min_samples_leaf': 3}\n",
      "Val f1-score: 0.5473684210526315\n",
      "\n"
     ]
    },
    {
     "name": "stderr",
     "output_type": "stream",
     "text": [
      "A column-vector y was passed when a 1d array was expected. Please change the shape of y to (n_samples,), for example using ravel().\n",
      "A column-vector y was passed when a 1d array was expected. Please change the shape of y to (n_samples,), for example using ravel().\n",
      "A column-vector y was passed when a 1d array was expected. Please change the shape of y to (n_samples,), for example using ravel().\n",
      "A column-vector y was passed when a 1d array was expected. Please change the shape of y to (n_samples,), for example using ravel().\n"
     ]
    },
    {
     "name": "stdout",
     "output_type": "stream",
     "text": [
      "[24/200] {'n_estimators': 50, 'max_depth': 3, 'min_samples_leaf': 4}\n",
      "Val f1-score: 0.5473684210526315\n",
      "\n",
      "[25/200] {'n_estimators': 50, 'max_depth': 3, 'min_samples_leaf': 5}\n",
      "Val f1-score: 0.5473684210526315\n",
      "\n",
      "[26/200] {'n_estimators': 50, 'max_depth': 3, 'min_samples_leaf': 6}\n",
      "Val f1-score: 0.5473684210526315\n",
      "\n",
      "[27/200] {'n_estimators': 50, 'max_depth': 3, 'min_samples_leaf': 7}\n",
      "Val f1-score: 0.5567010309278351\n",
      "\n"
     ]
    },
    {
     "name": "stderr",
     "output_type": "stream",
     "text": [
      "A column-vector y was passed when a 1d array was expected. Please change the shape of y to (n_samples,), for example using ravel().\n",
      "A column-vector y was passed when a 1d array was expected. Please change the shape of y to (n_samples,), for example using ravel().\n",
      "A column-vector y was passed when a 1d array was expected. Please change the shape of y to (n_samples,), for example using ravel().\n",
      "A column-vector y was passed when a 1d array was expected. Please change the shape of y to (n_samples,), for example using ravel().\n"
     ]
    },
    {
     "name": "stdout",
     "output_type": "stream",
     "text": [
      "[28/200] {'n_estimators': 50, 'max_depth': 3, 'min_samples_leaf': 8}\n",
      "Val f1-score: 0.5416666666666666\n",
      "\n",
      "[29/200] {'n_estimators': 50, 'max_depth': 3, 'min_samples_leaf': 9}\n",
      "Val f1-score: 0.5473684210526315\n",
      "\n",
      "[30/200] {'n_estimators': 50, 'max_depth': 3, 'min_samples_leaf': 10}\n",
      "Val f1-score: 0.5416666666666666\n",
      "\n",
      "[31/200] {'n_estimators': 50, 'max_depth': 4, 'min_samples_leaf': 1}\n",
      "Val f1-score: 0.5625\n",
      "\n"
     ]
    },
    {
     "name": "stderr",
     "output_type": "stream",
     "text": [
      "A column-vector y was passed when a 1d array was expected. Please change the shape of y to (n_samples,), for example using ravel().\n",
      "A column-vector y was passed when a 1d array was expected. Please change the shape of y to (n_samples,), for example using ravel().\n",
      "A column-vector y was passed when a 1d array was expected. Please change the shape of y to (n_samples,), for example using ravel().\n",
      "A column-vector y was passed when a 1d array was expected. Please change the shape of y to (n_samples,), for example using ravel().\n"
     ]
    },
    {
     "name": "stdout",
     "output_type": "stream",
     "text": [
      "[32/200] {'n_estimators': 50, 'max_depth': 4, 'min_samples_leaf': 2}\n",
      "Val f1-score: 0.5567010309278351\n",
      "\n",
      "[33/200] {'n_estimators': 50, 'max_depth': 4, 'min_samples_leaf': 3}\n",
      "Val f1-score: 0.5567010309278351\n",
      "\n",
      "[34/200] {'n_estimators': 50, 'max_depth': 4, 'min_samples_leaf': 4}\n",
      "Val f1-score: 0.577319587628866\n",
      "\n",
      "[35/200] {'n_estimators': 50, 'max_depth': 4, 'min_samples_leaf': 5}\n",
      "Val f1-score: 0.6060606060606061\n",
      "\n"
     ]
    },
    {
     "name": "stderr",
     "output_type": "stream",
     "text": [
      "A column-vector y was passed when a 1d array was expected. Please change the shape of y to (n_samples,), for example using ravel().\n",
      "A column-vector y was passed when a 1d array was expected. Please change the shape of y to (n_samples,), for example using ravel().\n",
      "A column-vector y was passed when a 1d array was expected. Please change the shape of y to (n_samples,), for example using ravel().\n",
      "A column-vector y was passed when a 1d array was expected. Please change the shape of y to (n_samples,), for example using ravel().\n"
     ]
    },
    {
     "name": "stdout",
     "output_type": "stream",
     "text": [
      "[36/200] {'n_estimators': 50, 'max_depth': 4, 'min_samples_leaf': 6}\n",
      "Val f1-score: 0.5918367346938775\n",
      "\n",
      "[37/200] {'n_estimators': 50, 'max_depth': 4, 'min_samples_leaf': 7}\n",
      "Val f1-score: 0.5833333333333334\n",
      "\n",
      "[38/200] {'n_estimators': 50, 'max_depth': 4, 'min_samples_leaf': 8}\n",
      "Val f1-score: 0.5684210526315788\n",
      "\n",
      "[39/200] {'n_estimators': 50, 'max_depth': 4, 'min_samples_leaf': 9}\n",
      "Val f1-score: 0.5714285714285715\n",
      "\n"
     ]
    },
    {
     "name": "stderr",
     "output_type": "stream",
     "text": [
      "A column-vector y was passed when a 1d array was expected. Please change the shape of y to (n_samples,), for example using ravel().\n",
      "A column-vector y was passed when a 1d array was expected. Please change the shape of y to (n_samples,), for example using ravel().\n",
      "A column-vector y was passed when a 1d array was expected. Please change the shape of y to (n_samples,), for example using ravel().\n"
     ]
    },
    {
     "name": "stdout",
     "output_type": "stream",
     "text": [
      "[40/200] {'n_estimators': 50, 'max_depth': 4, 'min_samples_leaf': 10}\n",
      "Val f1-score: 0.5531914893617021\n",
      "\n",
      "[41/200] {'n_estimators': 50, 'max_depth': 5, 'min_samples_leaf': 1}\n",
      "Val f1-score: 0.5858585858585859\n",
      "\n",
      "[42/200] {'n_estimators': 50, 'max_depth': 5, 'min_samples_leaf': 2}\n",
      "Val f1-score: 0.5858585858585859\n",
      "\n"
     ]
    },
    {
     "name": "stderr",
     "output_type": "stream",
     "text": [
      "A column-vector y was passed when a 1d array was expected. Please change the shape of y to (n_samples,), for example using ravel().\n",
      "A column-vector y was passed when a 1d array was expected. Please change the shape of y to (n_samples,), for example using ravel().\n",
      "A column-vector y was passed when a 1d array was expected. Please change the shape of y to (n_samples,), for example using ravel().\n"
     ]
    },
    {
     "name": "stdout",
     "output_type": "stream",
     "text": [
      "[43/200] {'n_estimators': 50, 'max_depth': 5, 'min_samples_leaf': 3}\n",
      "Val f1-score: 0.5858585858585859\n",
      "\n",
      "[44/200] {'n_estimators': 50, 'max_depth': 5, 'min_samples_leaf': 4}\n",
      "Val f1-score: 0.6336633663366337\n",
      "\n",
      "[45/200] {'n_estimators': 50, 'max_depth': 5, 'min_samples_leaf': 5}\n",
      "Val f1-score: 0.6\n",
      "\n"
     ]
    },
    {
     "name": "stderr",
     "output_type": "stream",
     "text": [
      "A column-vector y was passed when a 1d array was expected. Please change the shape of y to (n_samples,), for example using ravel().\n",
      "A column-vector y was passed when a 1d array was expected. Please change the shape of y to (n_samples,), for example using ravel().\n",
      "A column-vector y was passed when a 1d array was expected. Please change the shape of y to (n_samples,), for example using ravel().\n"
     ]
    },
    {
     "name": "stdout",
     "output_type": "stream",
     "text": [
      "[46/200] {'n_estimators': 50, 'max_depth': 5, 'min_samples_leaf': 6}\n",
      "Val f1-score: 0.6262626262626263\n",
      "\n",
      "[47/200] {'n_estimators': 50, 'max_depth': 5, 'min_samples_leaf': 7}\n",
      "Val f1-score: 0.6122448979591837\n",
      "\n",
      "[48/200] {'n_estimators': 50, 'max_depth': 5, 'min_samples_leaf': 8}\n",
      "Val f1-score: 0.597938144329897\n",
      "\n"
     ]
    },
    {
     "name": "stderr",
     "output_type": "stream",
     "text": [
      "A column-vector y was passed when a 1d array was expected. Please change the shape of y to (n_samples,), for example using ravel().\n",
      "A column-vector y was passed when a 1d array was expected. Please change the shape of y to (n_samples,), for example using ravel().\n",
      "A column-vector y was passed when a 1d array was expected. Please change the shape of y to (n_samples,), for example using ravel().\n"
     ]
    },
    {
     "name": "stdout",
     "output_type": "stream",
     "text": [
      "[49/200] {'n_estimators': 50, 'max_depth': 5, 'min_samples_leaf': 9}\n",
      "Val f1-score: 0.5591397849462365\n",
      "\n",
      "[50/200] {'n_estimators': 50, 'max_depth': 5, 'min_samples_leaf': 10}\n",
      "Val f1-score: 0.5684210526315788\n",
      "\n",
      "[51/200] {'n_estimators': 75, 'max_depth': 1, 'min_samples_leaf': 1}\n",
      "Val f1-score: 0.2352941176470588\n",
      "\n"
     ]
    },
    {
     "name": "stderr",
     "output_type": "stream",
     "text": [
      "A column-vector y was passed when a 1d array was expected. Please change the shape of y to (n_samples,), for example using ravel().\n",
      "A column-vector y was passed when a 1d array was expected. Please change the shape of y to (n_samples,), for example using ravel().\n",
      "A column-vector y was passed when a 1d array was expected. Please change the shape of y to (n_samples,), for example using ravel().\n"
     ]
    },
    {
     "name": "stdout",
     "output_type": "stream",
     "text": [
      "[52/200] {'n_estimators': 75, 'max_depth': 1, 'min_samples_leaf': 2}\n",
      "Val f1-score: 0.2352941176470588\n",
      "\n",
      "[53/200] {'n_estimators': 75, 'max_depth': 1, 'min_samples_leaf': 3}\n",
      "Val f1-score: 0.2352941176470588\n",
      "\n",
      "[54/200] {'n_estimators': 75, 'max_depth': 1, 'min_samples_leaf': 4}\n",
      "Val f1-score: 0.2352941176470588\n",
      "\n"
     ]
    },
    {
     "name": "stderr",
     "output_type": "stream",
     "text": [
      "A column-vector y was passed when a 1d array was expected. Please change the shape of y to (n_samples,), for example using ravel().\n",
      "A column-vector y was passed when a 1d array was expected. Please change the shape of y to (n_samples,), for example using ravel().\n",
      "A column-vector y was passed when a 1d array was expected. Please change the shape of y to (n_samples,), for example using ravel().\n"
     ]
    },
    {
     "name": "stdout",
     "output_type": "stream",
     "text": [
      "[55/200] {'n_estimators': 75, 'max_depth': 1, 'min_samples_leaf': 5}\n",
      "Val f1-score: 0.2352941176470588\n",
      "\n",
      "[56/200] {'n_estimators': 75, 'max_depth': 1, 'min_samples_leaf': 6}\n",
      "Val f1-score: 0.2352941176470588\n",
      "\n",
      "[57/200] {'n_estimators': 75, 'max_depth': 1, 'min_samples_leaf': 7}\n",
      "Val f1-score: 0.2352941176470588\n",
      "\n"
     ]
    },
    {
     "name": "stderr",
     "output_type": "stream",
     "text": [
      "A column-vector y was passed when a 1d array was expected. Please change the shape of y to (n_samples,), for example using ravel().\n",
      "A column-vector y was passed when a 1d array was expected. Please change the shape of y to (n_samples,), for example using ravel().\n",
      "A column-vector y was passed when a 1d array was expected. Please change the shape of y to (n_samples,), for example using ravel().\n"
     ]
    },
    {
     "name": "stdout",
     "output_type": "stream",
     "text": [
      "[58/200] {'n_estimators': 75, 'max_depth': 1, 'min_samples_leaf': 8}\n",
      "Val f1-score: 0.2352941176470588\n",
      "\n",
      "[59/200] {'n_estimators': 75, 'max_depth': 1, 'min_samples_leaf': 9}\n",
      "Val f1-score: 0.2352941176470588\n",
      "\n",
      "[60/200] {'n_estimators': 75, 'max_depth': 1, 'min_samples_leaf': 10}\n",
      "Val f1-score: 0.2352941176470588\n",
      "\n"
     ]
    },
    {
     "name": "stderr",
     "output_type": "stream",
     "text": [
      "A column-vector y was passed when a 1d array was expected. Please change the shape of y to (n_samples,), for example using ravel().\n",
      "A column-vector y was passed when a 1d array was expected. Please change the shape of y to (n_samples,), for example using ravel().\n",
      "A column-vector y was passed when a 1d array was expected. Please change the shape of y to (n_samples,), for example using ravel().\n"
     ]
    },
    {
     "name": "stdout",
     "output_type": "stream",
     "text": [
      "[61/200] {'n_estimators': 75, 'max_depth': 2, 'min_samples_leaf': 1}\n",
      "Val f1-score: 0.5287356321839081\n",
      "\n",
      "[62/200] {'n_estimators': 75, 'max_depth': 2, 'min_samples_leaf': 2}\n",
      "Val f1-score: 0.5287356321839081\n",
      "\n",
      "[63/200] {'n_estimators': 75, 'max_depth': 2, 'min_samples_leaf': 3}\n",
      "Val f1-score: 0.5287356321839081\n",
      "\n"
     ]
    },
    {
     "name": "stderr",
     "output_type": "stream",
     "text": [
      "A column-vector y was passed when a 1d array was expected. Please change the shape of y to (n_samples,), for example using ravel().\n",
      "A column-vector y was passed when a 1d array was expected. Please change the shape of y to (n_samples,), for example using ravel().\n",
      "A column-vector y was passed when a 1d array was expected. Please change the shape of y to (n_samples,), for example using ravel().\n"
     ]
    },
    {
     "name": "stdout",
     "output_type": "stream",
     "text": [
      "[64/200] {'n_estimators': 75, 'max_depth': 2, 'min_samples_leaf': 4}\n",
      "Val f1-score: 0.5287356321839081\n",
      "\n",
      "[65/200] {'n_estimators': 75, 'max_depth': 2, 'min_samples_leaf': 5}\n",
      "Val f1-score: 0.5287356321839081\n",
      "\n",
      "[66/200] {'n_estimators': 75, 'max_depth': 2, 'min_samples_leaf': 6}\n",
      "Val f1-score: 0.5287356321839081\n",
      "\n",
      "[67/200] {'n_estimators': 75, 'max_depth': 2, 'min_samples_leaf': 7}\n",
      "Val f1-score: 0.5287356321839081\n",
      "\n"
     ]
    },
    {
     "name": "stderr",
     "output_type": "stream",
     "text": [
      "A column-vector y was passed when a 1d array was expected. Please change the shape of y to (n_samples,), for example using ravel().\n",
      "A column-vector y was passed when a 1d array was expected. Please change the shape of y to (n_samples,), for example using ravel().\n"
     ]
    },
    {
     "name": "stdout",
     "output_type": "stream",
     "text": [
      "[68/200] {'n_estimators': 75, 'max_depth': 2, 'min_samples_leaf': 8}\n",
      "Val f1-score: 0.5287356321839081\n",
      "\n",
      "[69/200] {'n_estimators': 75, 'max_depth': 2, 'min_samples_leaf': 9}\n",
      "Val f1-score: 0.5287356321839081\n",
      "\n"
     ]
    },
    {
     "name": "stderr",
     "output_type": "stream",
     "text": [
      "A column-vector y was passed when a 1d array was expected. Please change the shape of y to (n_samples,), for example using ravel().\n",
      "A column-vector y was passed when a 1d array was expected. Please change the shape of y to (n_samples,), for example using ravel().\n"
     ]
    },
    {
     "name": "stdout",
     "output_type": "stream",
     "text": [
      "[70/200] {'n_estimators': 75, 'max_depth': 2, 'min_samples_leaf': 10}\n",
      "Val f1-score: 0.5287356321839081\n",
      "\n",
      "[71/200] {'n_estimators': 75, 'max_depth': 3, 'min_samples_leaf': 1}\n",
      "Val f1-score: 0.5684210526315788\n",
      "\n"
     ]
    },
    {
     "name": "stderr",
     "output_type": "stream",
     "text": [
      "A column-vector y was passed when a 1d array was expected. Please change the shape of y to (n_samples,), for example using ravel().\n",
      "A column-vector y was passed when a 1d array was expected. Please change the shape of y to (n_samples,), for example using ravel().\n"
     ]
    },
    {
     "name": "stdout",
     "output_type": "stream",
     "text": [
      "[72/200] {'n_estimators': 75, 'max_depth': 3, 'min_samples_leaf': 2}\n",
      "Val f1-score: 0.5625\n",
      "\n",
      "[73/200] {'n_estimators': 75, 'max_depth': 3, 'min_samples_leaf': 3}\n",
      "Val f1-score: 0.5625\n",
      "\n",
      "[74/200] {'n_estimators': 75, 'max_depth': 3, 'min_samples_leaf': 4}\n",
      "Val f1-score: 0.5625\n",
      "\n"
     ]
    },
    {
     "name": "stderr",
     "output_type": "stream",
     "text": [
      "A column-vector y was passed when a 1d array was expected. Please change the shape of y to (n_samples,), for example using ravel().\n",
      "A column-vector y was passed when a 1d array was expected. Please change the shape of y to (n_samples,), for example using ravel().\n",
      "A column-vector y was passed when a 1d array was expected. Please change the shape of y to (n_samples,), for example using ravel().\n"
     ]
    },
    {
     "name": "stdout",
     "output_type": "stream",
     "text": [
      "[75/200] {'n_estimators': 75, 'max_depth': 3, 'min_samples_leaf': 5}\n",
      "Val f1-score: 0.5625\n",
      "\n",
      "[76/200] {'n_estimators': 75, 'max_depth': 3, 'min_samples_leaf': 6}\n",
      "Val f1-score: 0.5625\n",
      "\n",
      "[77/200] {'n_estimators': 75, 'max_depth': 3, 'min_samples_leaf': 7}\n",
      "Val f1-score: 0.5625\n",
      "\n"
     ]
    },
    {
     "name": "stderr",
     "output_type": "stream",
     "text": [
      "A column-vector y was passed when a 1d array was expected. Please change the shape of y to (n_samples,), for example using ravel().\n",
      "A column-vector y was passed when a 1d array was expected. Please change the shape of y to (n_samples,), for example using ravel().\n",
      "A column-vector y was passed when a 1d array was expected. Please change the shape of y to (n_samples,), for example using ravel().\n"
     ]
    },
    {
     "name": "stdout",
     "output_type": "stream",
     "text": [
      "[78/200] {'n_estimators': 75, 'max_depth': 3, 'min_samples_leaf': 8}\n",
      "Val f1-score: 0.5473684210526315\n",
      "\n",
      "[79/200] {'n_estimators': 75, 'max_depth': 3, 'min_samples_leaf': 9}\n",
      "Val f1-score: 0.5473684210526315\n",
      "\n"
     ]
    },
    {
     "name": "stderr",
     "output_type": "stream",
     "text": [
      "A column-vector y was passed when a 1d array was expected. Please change the shape of y to (n_samples,), for example using ravel().\n",
      "A column-vector y was passed when a 1d array was expected. Please change the shape of y to (n_samples,), for example using ravel().\n"
     ]
    },
    {
     "name": "stdout",
     "output_type": "stream",
     "text": [
      "[80/200] {'n_estimators': 75, 'max_depth': 3, 'min_samples_leaf': 10}\n",
      "Val f1-score: 0.5473684210526315\n",
      "\n",
      "[81/200] {'n_estimators': 75, 'max_depth': 4, 'min_samples_leaf': 1}\n",
      "Val f1-score: 0.5833333333333334\n",
      "\n"
     ]
    },
    {
     "name": "stderr",
     "output_type": "stream",
     "text": [
      "A column-vector y was passed when a 1d array was expected. Please change the shape of y to (n_samples,), for example using ravel().\n",
      "A column-vector y was passed when a 1d array was expected. Please change the shape of y to (n_samples,), for example using ravel().\n"
     ]
    },
    {
     "name": "stdout",
     "output_type": "stream",
     "text": [
      "[82/200] {'n_estimators': 75, 'max_depth': 4, 'min_samples_leaf': 2}\n",
      "Val f1-score: 0.577319587628866\n",
      "\n",
      "[83/200] {'n_estimators': 75, 'max_depth': 4, 'min_samples_leaf': 3}\n",
      "Val f1-score: 0.5625\n",
      "\n"
     ]
    },
    {
     "name": "stderr",
     "output_type": "stream",
     "text": [
      "A column-vector y was passed when a 1d array was expected. Please change the shape of y to (n_samples,), for example using ravel().\n",
      "A column-vector y was passed when a 1d array was expected. Please change the shape of y to (n_samples,), for example using ravel().\n"
     ]
    },
    {
     "name": "stdout",
     "output_type": "stream",
     "text": [
      "[84/200] {'n_estimators': 75, 'max_depth': 4, 'min_samples_leaf': 4}\n",
      "Val f1-score: 0.597938144329897\n",
      "\n",
      "[85/200] {'n_estimators': 75, 'max_depth': 4, 'min_samples_leaf': 5}\n",
      "Val f1-score: 0.597938144329897\n",
      "\n"
     ]
    },
    {
     "name": "stderr",
     "output_type": "stream",
     "text": [
      "A column-vector y was passed when a 1d array was expected. Please change the shape of y to (n_samples,), for example using ravel().\n",
      "A column-vector y was passed when a 1d array was expected. Please change the shape of y to (n_samples,), for example using ravel().\n"
     ]
    },
    {
     "name": "stdout",
     "output_type": "stream",
     "text": [
      "[86/200] {'n_estimators': 75, 'max_depth': 4, 'min_samples_leaf': 6}\n",
      "Val f1-score: 0.6122448979591837\n",
      "\n",
      "[87/200] {'n_estimators': 75, 'max_depth': 4, 'min_samples_leaf': 7}\n",
      "Val f1-score: 0.6041666666666666\n",
      "\n"
     ]
    },
    {
     "name": "stderr",
     "output_type": "stream",
     "text": [
      "A column-vector y was passed when a 1d array was expected. Please change the shape of y to (n_samples,), for example using ravel().\n",
      "A column-vector y was passed when a 1d array was expected. Please change the shape of y to (n_samples,), for example using ravel().\n"
     ]
    },
    {
     "name": "stdout",
     "output_type": "stream",
     "text": [
      "[88/200] {'n_estimators': 75, 'max_depth': 4, 'min_samples_leaf': 8}\n",
      "Val f1-score: 0.6041666666666666\n",
      "\n",
      "[89/200] {'n_estimators': 75, 'max_depth': 4, 'min_samples_leaf': 9}\n",
      "Val f1-score: 0.5684210526315788\n",
      "\n"
     ]
    },
    {
     "name": "stderr",
     "output_type": "stream",
     "text": [
      "A column-vector y was passed when a 1d array was expected. Please change the shape of y to (n_samples,), for example using ravel().\n",
      "A column-vector y was passed when a 1d array was expected. Please change the shape of y to (n_samples,), for example using ravel().\n"
     ]
    },
    {
     "name": "stdout",
     "output_type": "stream",
     "text": [
      "[90/200] {'n_estimators': 75, 'max_depth': 4, 'min_samples_leaf': 10}\n",
      "Val f1-score: 0.574468085106383\n",
      "\n",
      "[91/200] {'n_estimators': 75, 'max_depth': 5, 'min_samples_leaf': 1}\n",
      "Val f1-score: 0.5858585858585859\n",
      "\n"
     ]
    },
    {
     "name": "stderr",
     "output_type": "stream",
     "text": [
      "A column-vector y was passed when a 1d array was expected. Please change the shape of y to (n_samples,), for example using ravel().\n",
      "A column-vector y was passed when a 1d array was expected. Please change the shape of y to (n_samples,), for example using ravel().\n"
     ]
    },
    {
     "name": "stdout",
     "output_type": "stream",
     "text": [
      "[92/200] {'n_estimators': 75, 'max_depth': 5, 'min_samples_leaf': 2}\n",
      "Val f1-score: 0.577319587628866\n",
      "\n",
      "[93/200] {'n_estimators': 75, 'max_depth': 5, 'min_samples_leaf': 3}\n",
      "Val f1-score: 0.577319587628866\n",
      "\n"
     ]
    },
    {
     "name": "stderr",
     "output_type": "stream",
     "text": [
      "A column-vector y was passed when a 1d array was expected. Please change the shape of y to (n_samples,), for example using ravel().\n",
      "A column-vector y was passed when a 1d array was expected. Please change the shape of y to (n_samples,), for example using ravel().\n"
     ]
    },
    {
     "name": "stdout",
     "output_type": "stream",
     "text": [
      "[94/200] {'n_estimators': 75, 'max_depth': 5, 'min_samples_leaf': 4}\n",
      "Val f1-score: 0.6122448979591837\n",
      "\n",
      "[95/200] {'n_estimators': 75, 'max_depth': 5, 'min_samples_leaf': 5}\n",
      "Val f1-score: 0.62\n",
      "\n"
     ]
    },
    {
     "name": "stderr",
     "output_type": "stream",
     "text": [
      "A column-vector y was passed when a 1d array was expected. Please change the shape of y to (n_samples,), for example using ravel().\n",
      "A column-vector y was passed when a 1d array was expected. Please change the shape of y to (n_samples,), for example using ravel().\n"
     ]
    },
    {
     "name": "stdout",
     "output_type": "stream",
     "text": [
      "[96/200] {'n_estimators': 75, 'max_depth': 5, 'min_samples_leaf': 6}\n",
      "Val f1-score: 0.6060606060606061\n",
      "\n",
      "[97/200] {'n_estimators': 75, 'max_depth': 5, 'min_samples_leaf': 7}\n",
      "Val f1-score: 0.5833333333333334\n",
      "\n"
     ]
    },
    {
     "name": "stderr",
     "output_type": "stream",
     "text": [
      "A column-vector y was passed when a 1d array was expected. Please change the shape of y to (n_samples,), for example using ravel().\n",
      "A column-vector y was passed when a 1d array was expected. Please change the shape of y to (n_samples,), for example using ravel().\n"
     ]
    },
    {
     "name": "stdout",
     "output_type": "stream",
     "text": [
      "[98/200] {'n_estimators': 75, 'max_depth': 5, 'min_samples_leaf': 8}\n",
      "Val f1-score: 0.597938144329897\n",
      "\n",
      "[99/200] {'n_estimators': 75, 'max_depth': 5, 'min_samples_leaf': 9}\n",
      "Val f1-score: 0.5591397849462365\n",
      "\n"
     ]
    },
    {
     "name": "stderr",
     "output_type": "stream",
     "text": [
      "A column-vector y was passed when a 1d array was expected. Please change the shape of y to (n_samples,), for example using ravel().\n",
      "A column-vector y was passed when a 1d array was expected. Please change the shape of y to (n_samples,), for example using ravel().\n"
     ]
    },
    {
     "name": "stdout",
     "output_type": "stream",
     "text": [
      "[100/200] {'n_estimators': 75, 'max_depth': 5, 'min_samples_leaf': 10}\n",
      "Val f1-score: 0.5591397849462365\n",
      "\n",
      "[101/200] {'n_estimators': 100, 'max_depth': 1, 'min_samples_leaf': 1}\n",
      "Val f1-score: 0.2571428571428571\n",
      "\n"
     ]
    },
    {
     "name": "stderr",
     "output_type": "stream",
     "text": [
      "A column-vector y was passed when a 1d array was expected. Please change the shape of y to (n_samples,), for example using ravel().\n",
      "A column-vector y was passed when a 1d array was expected. Please change the shape of y to (n_samples,), for example using ravel().\n"
     ]
    },
    {
     "name": "stdout",
     "output_type": "stream",
     "text": [
      "[102/200] {'n_estimators': 100, 'max_depth': 1, 'min_samples_leaf': 2}\n",
      "Val f1-score: 0.2571428571428571\n",
      "\n",
      "[103/200] {'n_estimators': 100, 'max_depth': 1, 'min_samples_leaf': 3}\n",
      "Val f1-score: 0.2571428571428571\n",
      "\n"
     ]
    },
    {
     "name": "stderr",
     "output_type": "stream",
     "text": [
      "A column-vector y was passed when a 1d array was expected. Please change the shape of y to (n_samples,), for example using ravel().\n",
      "A column-vector y was passed when a 1d array was expected. Please change the shape of y to (n_samples,), for example using ravel().\n"
     ]
    },
    {
     "name": "stdout",
     "output_type": "stream",
     "text": [
      "[104/200] {'n_estimators': 100, 'max_depth': 1, 'min_samples_leaf': 4}\n",
      "Val f1-score: 0.2571428571428571\n",
      "\n",
      "[105/200] {'n_estimators': 100, 'max_depth': 1, 'min_samples_leaf': 5}\n",
      "Val f1-score: 0.2571428571428571\n",
      "\n"
     ]
    },
    {
     "name": "stderr",
     "output_type": "stream",
     "text": [
      "A column-vector y was passed when a 1d array was expected. Please change the shape of y to (n_samples,), for example using ravel().\n",
      "A column-vector y was passed when a 1d array was expected. Please change the shape of y to (n_samples,), for example using ravel().\n"
     ]
    },
    {
     "name": "stdout",
     "output_type": "stream",
     "text": [
      "[106/200] {'n_estimators': 100, 'max_depth': 1, 'min_samples_leaf': 6}\n",
      "Val f1-score: 0.2571428571428571\n",
      "\n",
      "[107/200] {'n_estimators': 100, 'max_depth': 1, 'min_samples_leaf': 7}\n",
      "Val f1-score: 0.2571428571428571\n",
      "\n"
     ]
    },
    {
     "name": "stderr",
     "output_type": "stream",
     "text": [
      "A column-vector y was passed when a 1d array was expected. Please change the shape of y to (n_samples,), for example using ravel().\n",
      "A column-vector y was passed when a 1d array was expected. Please change the shape of y to (n_samples,), for example using ravel().\n"
     ]
    },
    {
     "name": "stdout",
     "output_type": "stream",
     "text": [
      "[108/200] {'n_estimators': 100, 'max_depth': 1, 'min_samples_leaf': 8}\n",
      "Val f1-score: 0.2571428571428571\n",
      "\n",
      "[109/200] {'n_estimators': 100, 'max_depth': 1, 'min_samples_leaf': 9}\n",
      "Val f1-score: 0.2571428571428571\n",
      "\n"
     ]
    },
    {
     "name": "stderr",
     "output_type": "stream",
     "text": [
      "A column-vector y was passed when a 1d array was expected. Please change the shape of y to (n_samples,), for example using ravel().\n",
      "A column-vector y was passed when a 1d array was expected. Please change the shape of y to (n_samples,), for example using ravel().\n"
     ]
    },
    {
     "name": "stdout",
     "output_type": "stream",
     "text": [
      "[110/200] {'n_estimators': 100, 'max_depth': 1, 'min_samples_leaf': 10}\n",
      "Val f1-score: 0.2571428571428571\n",
      "\n",
      "[111/200] {'n_estimators': 100, 'max_depth': 2, 'min_samples_leaf': 1}\n",
      "Val f1-score: 0.5287356321839081\n",
      "\n"
     ]
    },
    {
     "name": "stderr",
     "output_type": "stream",
     "text": [
      "A column-vector y was passed when a 1d array was expected. Please change the shape of y to (n_samples,), for example using ravel().\n",
      "A column-vector y was passed when a 1d array was expected. Please change the shape of y to (n_samples,), for example using ravel().\n"
     ]
    },
    {
     "name": "stdout",
     "output_type": "stream",
     "text": [
      "[112/200] {'n_estimators': 100, 'max_depth': 2, 'min_samples_leaf': 2}\n",
      "Val f1-score: 0.5287356321839081\n",
      "\n",
      "[113/200] {'n_estimators': 100, 'max_depth': 2, 'min_samples_leaf': 3}\n",
      "Val f1-score: 0.5287356321839081\n",
      "\n"
     ]
    },
    {
     "name": "stderr",
     "output_type": "stream",
     "text": [
      "A column-vector y was passed when a 1d array was expected. Please change the shape of y to (n_samples,), for example using ravel().\n",
      "A column-vector y was passed when a 1d array was expected. Please change the shape of y to (n_samples,), for example using ravel().\n"
     ]
    },
    {
     "name": "stdout",
     "output_type": "stream",
     "text": [
      "[114/200] {'n_estimators': 100, 'max_depth': 2, 'min_samples_leaf': 4}\n",
      "Val f1-score: 0.5287356321839081\n",
      "\n",
      "[115/200] {'n_estimators': 100, 'max_depth': 2, 'min_samples_leaf': 5}\n",
      "Val f1-score: 0.5287356321839081\n",
      "\n"
     ]
    },
    {
     "name": "stderr",
     "output_type": "stream",
     "text": [
      "A column-vector y was passed when a 1d array was expected. Please change the shape of y to (n_samples,), for example using ravel().\n",
      "A column-vector y was passed when a 1d array was expected. Please change the shape of y to (n_samples,), for example using ravel().\n"
     ]
    },
    {
     "name": "stdout",
     "output_type": "stream",
     "text": [
      "[116/200] {'n_estimators': 100, 'max_depth': 2, 'min_samples_leaf': 6}\n",
      "Val f1-score: 0.5287356321839081\n",
      "\n",
      "[117/200] {'n_estimators': 100, 'max_depth': 2, 'min_samples_leaf': 7}\n",
      "Val f1-score: 0.5287356321839081\n",
      "\n"
     ]
    },
    {
     "name": "stderr",
     "output_type": "stream",
     "text": [
      "A column-vector y was passed when a 1d array was expected. Please change the shape of y to (n_samples,), for example using ravel().\n",
      "A column-vector y was passed when a 1d array was expected. Please change the shape of y to (n_samples,), for example using ravel().\n"
     ]
    },
    {
     "name": "stdout",
     "output_type": "stream",
     "text": [
      "[118/200] {'n_estimators': 100, 'max_depth': 2, 'min_samples_leaf': 8}\n",
      "Val f1-score: 0.5287356321839081\n",
      "\n",
      "[119/200] {'n_estimators': 100, 'max_depth': 2, 'min_samples_leaf': 9}\n",
      "Val f1-score: 0.5287356321839081\n",
      "\n"
     ]
    },
    {
     "name": "stderr",
     "output_type": "stream",
     "text": [
      "A column-vector y was passed when a 1d array was expected. Please change the shape of y to (n_samples,), for example using ravel().\n",
      "A column-vector y was passed when a 1d array was expected. Please change the shape of y to (n_samples,), for example using ravel().\n"
     ]
    },
    {
     "name": "stdout",
     "output_type": "stream",
     "text": [
      "[120/200] {'n_estimators': 100, 'max_depth': 2, 'min_samples_leaf': 10}\n",
      "Val f1-score: 0.5287356321839081\n",
      "\n",
      "[121/200] {'n_estimators': 100, 'max_depth': 3, 'min_samples_leaf': 1}\n",
      "Val f1-score: 0.5684210526315788\n",
      "\n"
     ]
    },
    {
     "name": "stderr",
     "output_type": "stream",
     "text": [
      "A column-vector y was passed when a 1d array was expected. Please change the shape of y to (n_samples,), for example using ravel().\n",
      "A column-vector y was passed when a 1d array was expected. Please change the shape of y to (n_samples,), for example using ravel().\n"
     ]
    },
    {
     "name": "stdout",
     "output_type": "stream",
     "text": [
      "[122/200] {'n_estimators': 100, 'max_depth': 3, 'min_samples_leaf': 2}\n",
      "Val f1-score: 0.5684210526315788\n",
      "\n",
      "[123/200] {'n_estimators': 100, 'max_depth': 3, 'min_samples_leaf': 3}\n",
      "Val f1-score: 0.5684210526315788\n",
      "\n"
     ]
    },
    {
     "name": "stderr",
     "output_type": "stream",
     "text": [
      "A column-vector y was passed when a 1d array was expected. Please change the shape of y to (n_samples,), for example using ravel().\n",
      "A column-vector y was passed when a 1d array was expected. Please change the shape of y to (n_samples,), for example using ravel().\n"
     ]
    },
    {
     "name": "stdout",
     "output_type": "stream",
     "text": [
      "[124/200] {'n_estimators': 100, 'max_depth': 3, 'min_samples_leaf': 4}\n",
      "Val f1-score: 0.5625\n",
      "\n",
      "[125/200] {'n_estimators': 100, 'max_depth': 3, 'min_samples_leaf': 5}\n",
      "Val f1-score: 0.5473684210526315\n",
      "\n"
     ]
    },
    {
     "name": "stderr",
     "output_type": "stream",
     "text": [
      "A column-vector y was passed when a 1d array was expected. Please change the shape of y to (n_samples,), for example using ravel().\n",
      "A column-vector y was passed when a 1d array was expected. Please change the shape of y to (n_samples,), for example using ravel().\n"
     ]
    },
    {
     "name": "stdout",
     "output_type": "stream",
     "text": [
      "[126/200] {'n_estimators': 100, 'max_depth': 3, 'min_samples_leaf': 6}\n",
      "Val f1-score: 0.5625\n",
      "\n",
      "[127/200] {'n_estimators': 100, 'max_depth': 3, 'min_samples_leaf': 7}\n",
      "Val f1-score: 0.5625\n",
      "\n"
     ]
    },
    {
     "name": "stderr",
     "output_type": "stream",
     "text": [
      "A column-vector y was passed when a 1d array was expected. Please change the shape of y to (n_samples,), for example using ravel().\n",
      "A column-vector y was passed when a 1d array was expected. Please change the shape of y to (n_samples,), for example using ravel().\n"
     ]
    },
    {
     "name": "stdout",
     "output_type": "stream",
     "text": [
      "[128/200] {'n_estimators': 100, 'max_depth': 3, 'min_samples_leaf': 8}\n",
      "Val f1-score: 0.5473684210526315\n",
      "\n",
      "[129/200] {'n_estimators': 100, 'max_depth': 3, 'min_samples_leaf': 9}\n",
      "Val f1-score: 0.5531914893617021\n",
      "\n"
     ]
    },
    {
     "name": "stderr",
     "output_type": "stream",
     "text": [
      "A column-vector y was passed when a 1d array was expected. Please change the shape of y to (n_samples,), for example using ravel().\n",
      "A column-vector y was passed when a 1d array was expected. Please change the shape of y to (n_samples,), for example using ravel().\n"
     ]
    },
    {
     "name": "stdout",
     "output_type": "stream",
     "text": [
      "[130/200] {'n_estimators': 100, 'max_depth': 3, 'min_samples_leaf': 10}\n",
      "Val f1-score: 0.5531914893617021\n",
      "\n",
      "[131/200] {'n_estimators': 100, 'max_depth': 4, 'min_samples_leaf': 1}\n",
      "Val f1-score: 0.5833333333333334\n",
      "\n"
     ]
    },
    {
     "name": "stderr",
     "output_type": "stream",
     "text": [
      "A column-vector y was passed when a 1d array was expected. Please change the shape of y to (n_samples,), for example using ravel().\n",
      "A column-vector y was passed when a 1d array was expected. Please change the shape of y to (n_samples,), for example using ravel().\n"
     ]
    },
    {
     "name": "stdout",
     "output_type": "stream",
     "text": [
      "[132/200] {'n_estimators': 100, 'max_depth': 4, 'min_samples_leaf': 2}\n",
      "Val f1-score: 0.577319587628866\n",
      "\n",
      "[133/200] {'n_estimators': 100, 'max_depth': 4, 'min_samples_leaf': 3}\n",
      "Val f1-score: 0.5918367346938775\n",
      "\n"
     ]
    },
    {
     "name": "stderr",
     "output_type": "stream",
     "text": [
      "A column-vector y was passed when a 1d array was expected. Please change the shape of y to (n_samples,), for example using ravel().\n",
      "A column-vector y was passed when a 1d array was expected. Please change the shape of y to (n_samples,), for example using ravel().\n"
     ]
    },
    {
     "name": "stdout",
     "output_type": "stream",
     "text": [
      "[134/200] {'n_estimators': 100, 'max_depth': 4, 'min_samples_leaf': 4}\n",
      "Val f1-score: 0.597938144329897\n",
      "\n",
      "[135/200] {'n_estimators': 100, 'max_depth': 4, 'min_samples_leaf': 5}\n",
      "Val f1-score: 0.597938144329897\n",
      "\n"
     ]
    },
    {
     "name": "stderr",
     "output_type": "stream",
     "text": [
      "A column-vector y was passed when a 1d array was expected. Please change the shape of y to (n_samples,), for example using ravel().\n",
      "A column-vector y was passed when a 1d array was expected. Please change the shape of y to (n_samples,), for example using ravel().\n"
     ]
    },
    {
     "name": "stdout",
     "output_type": "stream",
     "text": [
      "[136/200] {'n_estimators': 100, 'max_depth': 4, 'min_samples_leaf': 6}\n",
      "Val f1-score: 0.6041666666666666\n",
      "\n",
      "[137/200] {'n_estimators': 100, 'max_depth': 4, 'min_samples_leaf': 7}\n",
      "Val f1-score: 0.6041666666666666\n",
      "\n"
     ]
    },
    {
     "name": "stderr",
     "output_type": "stream",
     "text": [
      "A column-vector y was passed when a 1d array was expected. Please change the shape of y to (n_samples,), for example using ravel().\n",
      "A column-vector y was passed when a 1d array was expected. Please change the shape of y to (n_samples,), for example using ravel().\n"
     ]
    },
    {
     "name": "stdout",
     "output_type": "stream",
     "text": [
      "[138/200] {'n_estimators': 100, 'max_depth': 4, 'min_samples_leaf': 8}\n",
      "Val f1-score: 0.574468085106383\n",
      "\n",
      "[139/200] {'n_estimators': 100, 'max_depth': 4, 'min_samples_leaf': 9}\n",
      "Val f1-score: 0.574468085106383\n",
      "\n"
     ]
    },
    {
     "name": "stderr",
     "output_type": "stream",
     "text": [
      "A column-vector y was passed when a 1d array was expected. Please change the shape of y to (n_samples,), for example using ravel().\n",
      "A column-vector y was passed when a 1d array was expected. Please change the shape of y to (n_samples,), for example using ravel().\n"
     ]
    },
    {
     "name": "stdout",
     "output_type": "stream",
     "text": [
      "[140/200] {'n_estimators': 100, 'max_depth': 4, 'min_samples_leaf': 10}\n",
      "Val f1-score: 0.5806451612903226\n",
      "\n",
      "[141/200] {'n_estimators': 100, 'max_depth': 5, 'min_samples_leaf': 1}\n",
      "Val f1-score: 0.5918367346938775\n",
      "\n"
     ]
    },
    {
     "name": "stderr",
     "output_type": "stream",
     "text": [
      "A column-vector y was passed when a 1d array was expected. Please change the shape of y to (n_samples,), for example using ravel().\n",
      "A column-vector y was passed when a 1d array was expected. Please change the shape of y to (n_samples,), for example using ravel().\n"
     ]
    },
    {
     "name": "stdout",
     "output_type": "stream",
     "text": [
      "[142/200] {'n_estimators': 100, 'max_depth': 5, 'min_samples_leaf': 2}\n",
      "Val f1-score: 0.577319587628866\n",
      "\n",
      "[143/200] {'n_estimators': 100, 'max_depth': 5, 'min_samples_leaf': 3}\n",
      "Val f1-score: 0.577319587628866\n",
      "\n"
     ]
    },
    {
     "name": "stderr",
     "output_type": "stream",
     "text": [
      "A column-vector y was passed when a 1d array was expected. Please change the shape of y to (n_samples,), for example using ravel().\n",
      "A column-vector y was passed when a 1d array was expected. Please change the shape of y to (n_samples,), for example using ravel().\n"
     ]
    },
    {
     "name": "stdout",
     "output_type": "stream",
     "text": [
      "[144/200] {'n_estimators': 100, 'max_depth': 5, 'min_samples_leaf': 4}\n",
      "Val f1-score: 0.62\n",
      "\n",
      "[145/200] {'n_estimators': 100, 'max_depth': 5, 'min_samples_leaf': 5}\n",
      "Val f1-score: 0.6262626262626263\n",
      "\n"
     ]
    },
    {
     "name": "stderr",
     "output_type": "stream",
     "text": [
      "A column-vector y was passed when a 1d array was expected. Please change the shape of y to (n_samples,), for example using ravel().\n",
      "A column-vector y was passed when a 1d array was expected. Please change the shape of y to (n_samples,), for example using ravel().\n"
     ]
    },
    {
     "name": "stdout",
     "output_type": "stream",
     "text": [
      "[146/200] {'n_estimators': 100, 'max_depth': 5, 'min_samples_leaf': 6}\n",
      "Val f1-score: 0.6185567010309277\n",
      "\n",
      "[147/200] {'n_estimators': 100, 'max_depth': 5, 'min_samples_leaf': 7}\n",
      "Val f1-score: 0.5833333333333334\n",
      "\n"
     ]
    },
    {
     "name": "stderr",
     "output_type": "stream",
     "text": [
      "A column-vector y was passed when a 1d array was expected. Please change the shape of y to (n_samples,), for example using ravel().\n",
      "A column-vector y was passed when a 1d array was expected. Please change the shape of y to (n_samples,), for example using ravel().\n"
     ]
    },
    {
     "name": "stdout",
     "output_type": "stream",
     "text": [
      "[148/200] {'n_estimators': 100, 'max_depth': 5, 'min_samples_leaf': 8}\n",
      "Val f1-score: 0.597938144329897\n",
      "\n",
      "[149/200] {'n_estimators': 100, 'max_depth': 5, 'min_samples_leaf': 9}\n",
      "Val f1-score: 0.5591397849462365\n",
      "\n"
     ]
    },
    {
     "name": "stderr",
     "output_type": "stream",
     "text": [
      "A column-vector y was passed when a 1d array was expected. Please change the shape of y to (n_samples,), for example using ravel().\n",
      "A column-vector y was passed when a 1d array was expected. Please change the shape of y to (n_samples,), for example using ravel().\n"
     ]
    },
    {
     "name": "stdout",
     "output_type": "stream",
     "text": [
      "[150/200] {'n_estimators': 100, 'max_depth': 5, 'min_samples_leaf': 10}\n",
      "Val f1-score: 0.5591397849462365\n",
      "\n",
      "[151/200] {'n_estimators': 110, 'max_depth': 1, 'min_samples_leaf': 1}\n",
      "Val f1-score: 0.3055555555555555\n",
      "\n"
     ]
    },
    {
     "name": "stderr",
     "output_type": "stream",
     "text": [
      "A column-vector y was passed when a 1d array was expected. Please change the shape of y to (n_samples,), for example using ravel().\n",
      "A column-vector y was passed when a 1d array was expected. Please change the shape of y to (n_samples,), for example using ravel().\n"
     ]
    },
    {
     "name": "stdout",
     "output_type": "stream",
     "text": [
      "[152/200] {'n_estimators': 110, 'max_depth': 1, 'min_samples_leaf': 2}\n",
      "Val f1-score: 0.3055555555555555\n",
      "\n",
      "[153/200] {'n_estimators': 110, 'max_depth': 1, 'min_samples_leaf': 3}\n",
      "Val f1-score: 0.3055555555555555\n",
      "\n"
     ]
    },
    {
     "name": "stderr",
     "output_type": "stream",
     "text": [
      "A column-vector y was passed when a 1d array was expected. Please change the shape of y to (n_samples,), for example using ravel().\n",
      "A column-vector y was passed when a 1d array was expected. Please change the shape of y to (n_samples,), for example using ravel().\n"
     ]
    },
    {
     "name": "stdout",
     "output_type": "stream",
     "text": [
      "[154/200] {'n_estimators': 110, 'max_depth': 1, 'min_samples_leaf': 4}\n",
      "Val f1-score: 0.3055555555555555\n",
      "\n",
      "[155/200] {'n_estimators': 110, 'max_depth': 1, 'min_samples_leaf': 5}\n",
      "Val f1-score: 0.3055555555555555\n",
      "\n"
     ]
    },
    {
     "name": "stderr",
     "output_type": "stream",
     "text": [
      "A column-vector y was passed when a 1d array was expected. Please change the shape of y to (n_samples,), for example using ravel().\n",
      "A column-vector y was passed when a 1d array was expected. Please change the shape of y to (n_samples,), for example using ravel().\n"
     ]
    },
    {
     "name": "stdout",
     "output_type": "stream",
     "text": [
      "[156/200] {'n_estimators': 110, 'max_depth': 1, 'min_samples_leaf': 6}\n",
      "Val f1-score: 0.3055555555555555\n",
      "\n",
      "[157/200] {'n_estimators': 110, 'max_depth': 1, 'min_samples_leaf': 7}\n",
      "Val f1-score: 0.3055555555555555\n",
      "\n"
     ]
    },
    {
     "name": "stderr",
     "output_type": "stream",
     "text": [
      "A column-vector y was passed when a 1d array was expected. Please change the shape of y to (n_samples,), for example using ravel().\n",
      "A column-vector y was passed when a 1d array was expected. Please change the shape of y to (n_samples,), for example using ravel().\n"
     ]
    },
    {
     "name": "stdout",
     "output_type": "stream",
     "text": [
      "[158/200] {'n_estimators': 110, 'max_depth': 1, 'min_samples_leaf': 8}\n",
      "Val f1-score: 0.3055555555555555\n",
      "\n",
      "[159/200] {'n_estimators': 110, 'max_depth': 1, 'min_samples_leaf': 9}\n",
      "Val f1-score: 0.3055555555555555\n",
      "\n"
     ]
    },
    {
     "name": "stderr",
     "output_type": "stream",
     "text": [
      "A column-vector y was passed when a 1d array was expected. Please change the shape of y to (n_samples,), for example using ravel().\n",
      "A column-vector y was passed when a 1d array was expected. Please change the shape of y to (n_samples,), for example using ravel().\n"
     ]
    },
    {
     "name": "stdout",
     "output_type": "stream",
     "text": [
      "[160/200] {'n_estimators': 110, 'max_depth': 1, 'min_samples_leaf': 10}\n",
      "Val f1-score: 0.3055555555555555\n",
      "\n",
      "[161/200] {'n_estimators': 110, 'max_depth': 2, 'min_samples_leaf': 1}\n",
      "Val f1-score: 0.5227272727272727\n",
      "\n"
     ]
    },
    {
     "name": "stderr",
     "output_type": "stream",
     "text": [
      "A column-vector y was passed when a 1d array was expected. Please change the shape of y to (n_samples,), for example using ravel().\n",
      "A column-vector y was passed when a 1d array was expected. Please change the shape of y to (n_samples,), for example using ravel().\n"
     ]
    },
    {
     "name": "stdout",
     "output_type": "stream",
     "text": [
      "[162/200] {'n_estimators': 110, 'max_depth': 2, 'min_samples_leaf': 2}\n",
      "Val f1-score: 0.5227272727272727\n",
      "\n",
      "[163/200] {'n_estimators': 110, 'max_depth': 2, 'min_samples_leaf': 3}\n",
      "Val f1-score: 0.5227272727272727\n",
      "\n"
     ]
    },
    {
     "name": "stderr",
     "output_type": "stream",
     "text": [
      "A column-vector y was passed when a 1d array was expected. Please change the shape of y to (n_samples,), for example using ravel().\n",
      "A column-vector y was passed when a 1d array was expected. Please change the shape of y to (n_samples,), for example using ravel().\n"
     ]
    },
    {
     "name": "stdout",
     "output_type": "stream",
     "text": [
      "[164/200] {'n_estimators': 110, 'max_depth': 2, 'min_samples_leaf': 4}\n",
      "Val f1-score: 0.5227272727272727\n",
      "\n",
      "[165/200] {'n_estimators': 110, 'max_depth': 2, 'min_samples_leaf': 5}\n",
      "Val f1-score: 0.5227272727272727\n",
      "\n"
     ]
    },
    {
     "name": "stderr",
     "output_type": "stream",
     "text": [
      "A column-vector y was passed when a 1d array was expected. Please change the shape of y to (n_samples,), for example using ravel().\n",
      "A column-vector y was passed when a 1d array was expected. Please change the shape of y to (n_samples,), for example using ravel().\n"
     ]
    },
    {
     "name": "stdout",
     "output_type": "stream",
     "text": [
      "[166/200] {'n_estimators': 110, 'max_depth': 2, 'min_samples_leaf': 6}\n",
      "Val f1-score: 0.5227272727272727\n",
      "\n",
      "[167/200] {'n_estimators': 110, 'max_depth': 2, 'min_samples_leaf': 7}\n",
      "Val f1-score: 0.5227272727272727\n",
      "\n"
     ]
    },
    {
     "name": "stderr",
     "output_type": "stream",
     "text": [
      "A column-vector y was passed when a 1d array was expected. Please change the shape of y to (n_samples,), for example using ravel().\n",
      "A column-vector y was passed when a 1d array was expected. Please change the shape of y to (n_samples,), for example using ravel().\n"
     ]
    },
    {
     "name": "stdout",
     "output_type": "stream",
     "text": [
      "[168/200] {'n_estimators': 110, 'max_depth': 2, 'min_samples_leaf': 8}\n",
      "Val f1-score: 0.5227272727272727\n",
      "\n",
      "[169/200] {'n_estimators': 110, 'max_depth': 2, 'min_samples_leaf': 9}\n",
      "Val f1-score: 0.5227272727272727\n",
      "\n"
     ]
    },
    {
     "name": "stderr",
     "output_type": "stream",
     "text": [
      "A column-vector y was passed when a 1d array was expected. Please change the shape of y to (n_samples,), for example using ravel().\n",
      "A column-vector y was passed when a 1d array was expected. Please change the shape of y to (n_samples,), for example using ravel().\n"
     ]
    },
    {
     "name": "stdout",
     "output_type": "stream",
     "text": [
      "[170/200] {'n_estimators': 110, 'max_depth': 2, 'min_samples_leaf': 10}\n",
      "Val f1-score: 0.5227272727272727\n",
      "\n",
      "[171/200] {'n_estimators': 110, 'max_depth': 3, 'min_samples_leaf': 1}\n",
      "Val f1-score: 0.577319587628866\n",
      "\n"
     ]
    },
    {
     "name": "stderr",
     "output_type": "stream",
     "text": [
      "A column-vector y was passed when a 1d array was expected. Please change the shape of y to (n_samples,), for example using ravel().\n",
      "A column-vector y was passed when a 1d array was expected. Please change the shape of y to (n_samples,), for example using ravel().\n"
     ]
    },
    {
     "name": "stdout",
     "output_type": "stream",
     "text": [
      "[172/200] {'n_estimators': 110, 'max_depth': 3, 'min_samples_leaf': 2}\n",
      "Val f1-score: 0.5833333333333334\n",
      "\n",
      "[173/200] {'n_estimators': 110, 'max_depth': 3, 'min_samples_leaf': 3}\n",
      "Val f1-score: 0.5684210526315788\n",
      "\n"
     ]
    },
    {
     "name": "stderr",
     "output_type": "stream",
     "text": [
      "A column-vector y was passed when a 1d array was expected. Please change the shape of y to (n_samples,), for example using ravel().\n",
      "A column-vector y was passed when a 1d array was expected. Please change the shape of y to (n_samples,), for example using ravel().\n"
     ]
    },
    {
     "name": "stdout",
     "output_type": "stream",
     "text": [
      "[174/200] {'n_estimators': 110, 'max_depth': 3, 'min_samples_leaf': 4}\n",
      "Val f1-score: 0.5531914893617021\n",
      "\n",
      "[175/200] {'n_estimators': 110, 'max_depth': 3, 'min_samples_leaf': 5}\n",
      "Val f1-score: 0.5473684210526315\n",
      "\n"
     ]
    },
    {
     "name": "stderr",
     "output_type": "stream",
     "text": [
      "A column-vector y was passed when a 1d array was expected. Please change the shape of y to (n_samples,), for example using ravel().\n",
      "A column-vector y was passed when a 1d array was expected. Please change the shape of y to (n_samples,), for example using ravel().\n"
     ]
    },
    {
     "name": "stdout",
     "output_type": "stream",
     "text": [
      "[176/200] {'n_estimators': 110, 'max_depth': 3, 'min_samples_leaf': 6}\n",
      "Val f1-score: 0.5531914893617021\n",
      "\n",
      "[177/200] {'n_estimators': 110, 'max_depth': 3, 'min_samples_leaf': 7}\n",
      "Val f1-score: 0.5473684210526315\n",
      "\n"
     ]
    },
    {
     "name": "stderr",
     "output_type": "stream",
     "text": [
      "A column-vector y was passed when a 1d array was expected. Please change the shape of y to (n_samples,), for example using ravel().\n",
      "A column-vector y was passed when a 1d array was expected. Please change the shape of y to (n_samples,), for example using ravel().\n"
     ]
    },
    {
     "name": "stdout",
     "output_type": "stream",
     "text": [
      "[178/200] {'n_estimators': 110, 'max_depth': 3, 'min_samples_leaf': 8}\n",
      "Val f1-score: 0.5531914893617021\n",
      "\n",
      "[179/200] {'n_estimators': 110, 'max_depth': 3, 'min_samples_leaf': 9}\n",
      "Val f1-score: 0.5531914893617021\n",
      "\n"
     ]
    },
    {
     "name": "stderr",
     "output_type": "stream",
     "text": [
      "A column-vector y was passed when a 1d array was expected. Please change the shape of y to (n_samples,), for example using ravel().\n",
      "A column-vector y was passed when a 1d array was expected. Please change the shape of y to (n_samples,), for example using ravel().\n"
     ]
    },
    {
     "name": "stdout",
     "output_type": "stream",
     "text": [
      "[180/200] {'n_estimators': 110, 'max_depth': 3, 'min_samples_leaf': 10}\n",
      "Val f1-score: 0.5531914893617021\n",
      "\n",
      "[181/200] {'n_estimators': 110, 'max_depth': 4, 'min_samples_leaf': 1}\n",
      "Val f1-score: 0.5833333333333334\n",
      "\n"
     ]
    },
    {
     "name": "stderr",
     "output_type": "stream",
     "text": [
      "A column-vector y was passed when a 1d array was expected. Please change the shape of y to (n_samples,), for example using ravel().\n",
      "A column-vector y was passed when a 1d array was expected. Please change the shape of y to (n_samples,), for example using ravel().\n"
     ]
    },
    {
     "name": "stdout",
     "output_type": "stream",
     "text": [
      "[182/200] {'n_estimators': 110, 'max_depth': 4, 'min_samples_leaf': 2}\n",
      "Val f1-score: 0.597938144329897\n",
      "\n",
      "[183/200] {'n_estimators': 110, 'max_depth': 4, 'min_samples_leaf': 3}\n",
      "Val f1-score: 0.597938144329897\n",
      "\n"
     ]
    },
    {
     "name": "stderr",
     "output_type": "stream",
     "text": [
      "A column-vector y was passed when a 1d array was expected. Please change the shape of y to (n_samples,), for example using ravel().\n",
      "A column-vector y was passed when a 1d array was expected. Please change the shape of y to (n_samples,), for example using ravel().\n"
     ]
    },
    {
     "name": "stdout",
     "output_type": "stream",
     "text": [
      "[184/200] {'n_estimators': 110, 'max_depth': 4, 'min_samples_leaf': 4}\n",
      "Val f1-score: 0.597938144329897\n",
      "\n",
      "[185/200] {'n_estimators': 110, 'max_depth': 4, 'min_samples_leaf': 5}\n",
      "Val f1-score: 0.597938144329897\n",
      "\n"
     ]
    },
    {
     "name": "stderr",
     "output_type": "stream",
     "text": [
      "A column-vector y was passed when a 1d array was expected. Please change the shape of y to (n_samples,), for example using ravel().\n",
      "A column-vector y was passed when a 1d array was expected. Please change the shape of y to (n_samples,), for example using ravel().\n"
     ]
    },
    {
     "name": "stdout",
     "output_type": "stream",
     "text": [
      "[186/200] {'n_estimators': 110, 'max_depth': 4, 'min_samples_leaf': 6}\n",
      "Val f1-score: 0.6185567010309277\n",
      "\n",
      "[187/200] {'n_estimators': 110, 'max_depth': 4, 'min_samples_leaf': 7}\n",
      "Val f1-score: 0.6041666666666666\n",
      "\n"
     ]
    },
    {
     "name": "stderr",
     "output_type": "stream",
     "text": [
      "A column-vector y was passed when a 1d array was expected. Please change the shape of y to (n_samples,), for example using ravel().\n",
      "A column-vector y was passed when a 1d array was expected. Please change the shape of y to (n_samples,), for example using ravel().\n"
     ]
    },
    {
     "name": "stdout",
     "output_type": "stream",
     "text": [
      "[188/200] {'n_estimators': 110, 'max_depth': 4, 'min_samples_leaf': 8}\n",
      "Val f1-score: 0.574468085106383\n",
      "\n",
      "[189/200] {'n_estimators': 110, 'max_depth': 4, 'min_samples_leaf': 9}\n",
      "Val f1-score: 0.574468085106383\n",
      "\n"
     ]
    },
    {
     "name": "stderr",
     "output_type": "stream",
     "text": [
      "A column-vector y was passed when a 1d array was expected. Please change the shape of y to (n_samples,), for example using ravel().\n",
      "A column-vector y was passed when a 1d array was expected. Please change the shape of y to (n_samples,), for example using ravel().\n"
     ]
    },
    {
     "name": "stdout",
     "output_type": "stream",
     "text": [
      "[190/200] {'n_estimators': 110, 'max_depth': 4, 'min_samples_leaf': 10}\n",
      "Val f1-score: 0.5652173913043478\n",
      "\n",
      "[191/200] {'n_estimators': 110, 'max_depth': 5, 'min_samples_leaf': 1}\n",
      "Val f1-score: 0.5858585858585859\n",
      "\n"
     ]
    },
    {
     "name": "stderr",
     "output_type": "stream",
     "text": [
      "A column-vector y was passed when a 1d array was expected. Please change the shape of y to (n_samples,), for example using ravel().\n",
      "A column-vector y was passed when a 1d array was expected. Please change the shape of y to (n_samples,), for example using ravel().\n"
     ]
    },
    {
     "name": "stdout",
     "output_type": "stream",
     "text": [
      "[192/200] {'n_estimators': 110, 'max_depth': 5, 'min_samples_leaf': 2}\n",
      "Val f1-score: 0.6060606060606061\n",
      "\n",
      "[193/200] {'n_estimators': 110, 'max_depth': 5, 'min_samples_leaf': 3}\n",
      "Val f1-score: 0.5918367346938775\n",
      "\n"
     ]
    },
    {
     "name": "stderr",
     "output_type": "stream",
     "text": [
      "A column-vector y was passed when a 1d array was expected. Please change the shape of y to (n_samples,), for example using ravel().\n",
      "A column-vector y was passed when a 1d array was expected. Please change the shape of y to (n_samples,), for example using ravel().\n"
     ]
    },
    {
     "name": "stdout",
     "output_type": "stream",
     "text": [
      "[194/200] {'n_estimators': 110, 'max_depth': 5, 'min_samples_leaf': 4}\n",
      "Val f1-score: 0.6336633663366337\n",
      "\n",
      "[195/200] {'n_estimators': 110, 'max_depth': 5, 'min_samples_leaf': 5}\n",
      "Val f1-score: 0.6262626262626263\n",
      "\n"
     ]
    },
    {
     "name": "stderr",
     "output_type": "stream",
     "text": [
      "A column-vector y was passed when a 1d array was expected. Please change the shape of y to (n_samples,), for example using ravel().\n",
      "A column-vector y was passed when a 1d array was expected. Please change the shape of y to (n_samples,), for example using ravel().\n"
     ]
    },
    {
     "name": "stdout",
     "output_type": "stream",
     "text": [
      "[196/200] {'n_estimators': 110, 'max_depth': 5, 'min_samples_leaf': 6}\n",
      "Val f1-score: 0.5894736842105264\n",
      "\n",
      "[197/200] {'n_estimators': 110, 'max_depth': 5, 'min_samples_leaf': 7}\n",
      "Val f1-score: 0.6041666666666666\n",
      "\n"
     ]
    },
    {
     "name": "stderr",
     "output_type": "stream",
     "text": [
      "A column-vector y was passed when a 1d array was expected. Please change the shape of y to (n_samples,), for example using ravel().\n",
      "A column-vector y was passed when a 1d array was expected. Please change the shape of y to (n_samples,), for example using ravel().\n"
     ]
    },
    {
     "name": "stdout",
     "output_type": "stream",
     "text": [
      "[198/200] {'n_estimators': 110, 'max_depth': 5, 'min_samples_leaf': 8}\n",
      "Val f1-score: 0.597938144329897\n",
      "\n",
      "[199/200] {'n_estimators': 110, 'max_depth': 5, 'min_samples_leaf': 9}\n",
      "Val f1-score: 0.574468085106383\n",
      "\n"
     ]
    },
    {
     "name": "stderr",
     "output_type": "stream",
     "text": [
      "A column-vector y was passed when a 1d array was expected. Please change the shape of y to (n_samples,), for example using ravel().\n",
      "A column-vector y was passed when a 1d array was expected. Please change the shape of y to (n_samples,), for example using ravel().\n"
     ]
    },
    {
     "name": "stdout",
     "output_type": "stream",
     "text": [
      "[200/200] {'n_estimators': 110, 'max_depth': 5, 'min_samples_leaf': 10}\n",
      "Val f1-score: 0.5591397849462365\n",
      "\n",
      "Best hyperparameters:\n",
      "{'n_estimators': 110, 'max_depth': 5, 'min_samples_leaf': 4, 'random_state': 10}\n",
      "Train f1 score : 0.7291666666666666\n",
      "Test f1 score : 0.6336633663366337\n"
     ]
    }
   ],
   "source": [
    "best_rf = random_forest_grid_search(X_dev, y_dev, X_test, y_test)"
   ]
  },
  {
   "cell_type": "code",
   "execution_count": 180,
   "id": "b9059abb",
   "metadata": {},
   "outputs": [],
   "source": [
    "def explain_model(classifier, X_importance):\n",
    "    explainer = shap.TreeExplainer(classifier)\n",
    "    shap_values = explainer.shap_values(X_importance)[1]\n",
    "    shap.summary_plot(shap_values, X_importance)"
   ]
  },
  {
   "cell_type": "code",
   "execution_count": 181,
   "id": "0ed441f3",
   "metadata": {},
   "outputs": [
    {
     "data": {
      "image/png": "[encoded data removed]",
      "text/plain": [
       "<Figure size 576x540 with 2 Axes>"
      ]
     },
     "metadata": {
      "needs_background": "light"
     },
     "output_type": "display_data"
    }
   ],
   "source": [
    "explain_model(best_rf, X_test)"
   ]
  },
  {
   "cell_type": "code",
   "execution_count": null,
   "id": "96b600d0",
   "metadata": {},
   "outputs": [],
   "source": []
  }
 ],
 "metadata": {
  "kernelspec": {
   "display_name": "Python 3",
   "language": "python",
   "name": "python3"
  },
  "language_info": {
   "codemirror_mode": {
    "name": "ipython",
    "version": 3
   },
   "file_extension": ".py",
   "mimetype": "text/x-python",
   "name": "python",
   "nbconvert_exporter": "python",
   "pygments_lexer": "ipython3",
   "version": "3.7.10"
  }
 },
 "nbformat": 4,
 "nbformat_minor": 5
}
